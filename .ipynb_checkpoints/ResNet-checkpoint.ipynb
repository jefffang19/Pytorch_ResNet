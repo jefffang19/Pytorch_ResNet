{
 "cells": [
  {
   "cell_type": "code",
   "execution_count": 10,
   "metadata": {},
   "outputs": [
    {
     "name": "stdout",
     "output_type": "stream",
     "text": [
      "hello world\n"
     ]
    }
   ],
   "source": [
    "print(\"hello world\")"
   ]
  },
  {
   "cell_type": "code",
   "execution_count": 11,
   "metadata": {},
   "outputs": [],
   "source": [
    "import torch\n",
    "import torch.nn as nn"
   ]
  },
  {
   "cell_type": "markdown",
   "metadata": {},
   "source": [
    "# My code starts here"
   ]
  },
  {
   "cell_type": "code",
   "execution_count": 75,
   "metadata": {},
   "outputs": [],
   "source": [
    "class ResidualBlock(nn.Module):\n",
    "    def __init__(self, in_channels, out_channels, kernel_size=3):\n",
    "        super(ResidualBlock,self).__init__()\n",
    "        self.conv1 = nn.Conv2d(in_channels, out_channels, kernel_size, padding=1)\n",
    "        self.conv2 = nn.Conv2d(out_channels, out_channels, kernel_size, padding=1)\n",
    "        #batch norm layer\n",
    "        self.bn1 = nn.BatchNorm2d(num_features=out_channels)\n",
    "        self.bn2 = nn.BatchNorm2d(num_features=out_channels)\n",
    "        self.relu = nn.ReLU(inplace=True)\n",
    "        \n",
    "        #transition the input channel for the residual path to add\n",
    "        self.trans = nn.Conv2d(in_channels, out_channels, kernel_size=1)\n",
    "        #if in_channels == out_channels: no need to do transition\n",
    "        self.isChanged = not in_channels == out_channels\n",
    "        \n",
    "    def forward(self, x):\n",
    "        print(x.shape)\n",
    "        f_x = self.conv1(x)\n",
    "        f_x = self.bn1(f_x)\n",
    "        f_x = self.relu(f_x)\n",
    "        f_x = self.conv2(f_x)\n",
    "        f_x = self.bn2(f_x)\n",
    "        \n",
    "        #residual path\n",
    "        print(f_x.shape)\n",
    "        #in order for the residual path to work, we need to match the channels\n",
    "        if(self.isChanged):\n",
    "            x = self.trans(x)\n",
    "        print(x.shape)\n",
    "        x = f_x + x\n",
    "        x = self.relu(x)\n",
    "        return x"
   ]
  },
  {
   "cell_type": "code",
   "execution_count": 57,
   "metadata": {},
   "outputs": [],
   "source": [
    "from torchsummary import summary"
   ]
  },
  {
   "cell_type": "code",
   "execution_count": 76,
   "metadata": {},
   "outputs": [],
   "source": [
    "residualBlock = ResidualBlock(3,20)"
   ]
  },
  {
   "cell_type": "code",
   "execution_count": 77,
   "metadata": {},
   "outputs": [
    {
     "name": "stdout",
     "output_type": "stream",
     "text": [
      "torch.Size([2, 3, 32, 32])\n",
      "torch.Size([2, 20, 32, 32])\n",
      "torch.Size([2, 20, 32, 32])\n",
      "----------------------------------------------------------------\n",
      "        Layer (type)               Output Shape         Param #\n",
      "================================================================\n",
      "            Conv2d-1           [-1, 20, 32, 32]             560\n",
      "       BatchNorm2d-2           [-1, 20, 32, 32]              40\n",
      "              ReLU-3           [-1, 20, 32, 32]               0\n",
      "            Conv2d-4           [-1, 20, 32, 32]           3,620\n",
      "       BatchNorm2d-5           [-1, 20, 32, 32]              40\n",
      "            Conv2d-6           [-1, 20, 32, 32]              80\n",
      "              ReLU-7           [-1, 20, 32, 32]               0\n",
      "================================================================\n",
      "Total params: 4,340\n",
      "Trainable params: 4,340\n",
      "Non-trainable params: 0\n",
      "----------------------------------------------------------------\n",
      "Input size (MB): 0.01\n",
      "Forward/backward pass size (MB): 1.09\n",
      "Params size (MB): 0.02\n",
      "Estimated Total Size (MB): 1.12\n",
      "----------------------------------------------------------------\n"
     ]
    }
   ],
   "source": [
    "summary(residualBlock, (3, 32, 32))"
   ]
  }
 ],
 "metadata": {
  "kernelspec": {
   "display_name": "Python 3",
   "language": "python",
   "name": "python3"
  },
  "language_info": {
   "codemirror_mode": {
    "name": "ipython",
    "version": 3
   },
   "file_extension": ".py",
   "mimetype": "text/x-python",
   "name": "python",
   "nbconvert_exporter": "python",
   "pygments_lexer": "ipython3",
   "version": "3.7.3"
  }
 },
 "nbformat": 4,
 "nbformat_minor": 4
}
