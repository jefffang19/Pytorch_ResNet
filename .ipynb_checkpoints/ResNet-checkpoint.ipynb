{
 "cells": [
  {
   "cell_type": "code",
   "execution_count": 1,
   "metadata": {},
   "outputs": [],
   "source": [
    "import torch\n",
    "import torch.nn as nn"
   ]
  },
  {
   "cell_type": "markdown",
   "metadata": {},
   "source": [
    "# My code starts here"
   ]
  },
  {
   "cell_type": "code",
   "execution_count": 45,
   "metadata": {},
   "outputs": [],
   "source": [
    "class ResNet(nn.Module):\n",
    "    def __init__(self, in_channels, out_channels, kernel_size=3, batch_size = 4):\n",
    "        super(ResNet,self).__init__()\n",
    "        #number of Blocks\n",
    "        self.numBlocks = [2,2,2,2]\n",
    "        #convolution layer\n",
    "        self.conv = [nn.Conv2d(in_channels, out_channels, kernel_size=7, padding=3, stride=2),\n",
    "                    nn.Conv2d(out_channels, out_channels, kernel_size, padding=1),\n",
    "                    nn.Conv2d(out_channels, out_channels*2, kernel_size, padding=1, stride=2),\n",
    "                    nn.Conv2d(out_channels*2, out_channels*2, kernel_size, padding=1),\n",
    "                    nn.Conv2d(out_channels*2, out_channels*4, kernel_size, padding=1, stride=2),\n",
    "                    nn.Conv2d(out_channels*4, out_channels*4, kernel_size, padding=1),\n",
    "                    nn.Conv2d(out_channels*4, out_channels*8, kernel_size, padding=1, stride=2),\n",
    "                    nn.Conv2d(out_channels*8, out_channels*8, kernel_size, padding=1)]\n",
    "        #batch norm layer\n",
    "        self.bn = [nn.BatchNorm2d(num_features=out_channels),\n",
    "                    nn.BatchNorm2d(num_features=out_channels*2),\n",
    "                    nn.BatchNorm2d(num_features=out_channels*4),\n",
    "                    nn.BatchNorm2d(num_features=out_channels*8)]\n",
    "        self.relu = nn.ReLU(inplace=True)\n",
    "        self.maxpool = nn.MaxPool2d(kernel_size=3, padding=1, stride=2)\n",
    "        self.avgpool = nn.AdaptiveAvgPool2d((1,1))\n",
    "        self.linear = nn.Linear(out_channels*8*batch_size, 1000)\n",
    "        self.flatten = nn.Flatten(end_dim=1)\n",
    "        self.softmax = nn.Softmax(dim=1)\n",
    "        \n",
    "        #transition the input channel for the residual path to add\n",
    "        self.trans = [nn.Conv2d(out_channels, out_channels*2, kernel_size=1, stride=2),\n",
    "                    nn.Conv2d(out_channels*2, out_channels*4, kernel_size=1, stride=2),\n",
    "                    nn.Conv2d(out_channels*4, out_channels*8, kernel_size=1, stride=2)]\n",
    "        #if in_channels == out_channels: no need to do transition\n",
    "        self.isChanged = False\n",
    "        self.out_channels = out_channels\n",
    "        self.batch_size = batch_size\n",
    "        \n",
    "    def forward(self, x):\n",
    "        print(x.shape)\n",
    "        x = self.conv[0](x)\n",
    "        \n",
    "        print(x.shape)\n",
    "        #max pooling layer\n",
    "        x = self.maxpool(x)\n",
    "        \n",
    "        print(x.shape)\n",
    "        \n",
    "        #block 1\n",
    "        for i in range(self.numBlocks[0]):\n",
    "            f_x = self.conv[1](x)\n",
    "            f_x = self.bn[0](f_x)\n",
    "            f_x = self.relu(f_x)\n",
    "            f_x = self.conv[1](f_x)\n",
    "            f_x = self.bn[0](f_x)\n",
    "            #residual path\n",
    "            x = f_x + x\n",
    "            x = self.relu(x)\n",
    "        \n",
    "        self.isChanged = True\n",
    "        \n",
    "        #block 2\n",
    "        for i in range(self.numBlocks[1]):\n",
    "            if(self.isChanged):\n",
    "                f_x = self.conv[2](x)\n",
    "            else:\n",
    "                f_x = self.conv[3](x)\n",
    "            f_x = self.bn[1](f_x)\n",
    "            f_x = self.relu(f_x)\n",
    "            f_x = self.conv[3](f_x)\n",
    "            f_x = self.bn[1](f_x)\n",
    "            #residual path\n",
    "            #in order for the residual path to work, we need to match the channels\n",
    "            if(self.isChanged):\n",
    "                x = self.trans[0](x)\n",
    "                self.isChanged = False\n",
    "            print(f_x.shape, x.shape)\n",
    "            x = f_x + x\n",
    "            x = self.relu(x)\n",
    "        \n",
    "        self.isChanged = True\n",
    "        \n",
    "        #block 3\n",
    "        for i in range(self.numBlocks[2]):\n",
    "            if(self.isChanged):\n",
    "                f_x = self.conv[4](x)\n",
    "            else:\n",
    "                f_x = self.conv[5](x)\n",
    "            f_x = self.bn[2](f_x)\n",
    "            f_x = self.relu(f_x)\n",
    "            f_x = self.conv[5](f_x)\n",
    "            f_x = self.bn[2](f_x)\n",
    "            #residual path\n",
    "            #in order for the residual path to work, we need to match the channels\n",
    "            if(self.isChanged):\n",
    "                x = self.trans[1](x)\n",
    "                self.isChanged = False\n",
    "            x = f_x + x\n",
    "            x = self.relu(x)\n",
    "        \n",
    "        self.isChanged = True\n",
    "        \n",
    "        #block 4\n",
    "        for i in range(self.numBlocks[3]):\n",
    "            if(self.isChanged):\n",
    "                f_x = self.conv[6](x)\n",
    "            else:\n",
    "                f_x = self.conv[7](x)\n",
    "            f_x = self.bn[3](f_x)\n",
    "            f_x = self.relu(f_x)\n",
    "            f_x = self.conv[7](f_x)\n",
    "            f_x = self.bn[3](f_x)\n",
    "            #residual path\n",
    "            #in order for the residual path to work, we need to match the channels\n",
    "            if(self.isChanged):\n",
    "                x = self.trans[2](x)\n",
    "                self.isChanged = False\n",
    "            x = f_x + x\n",
    "            x = self.relu(x)\n",
    "        print(x.shape)\n",
    "        #average pooling layer\n",
    "        x = self.avgpool(x)\n",
    "        print(x.shape)\n",
    "        #full connected layer\n",
    "        x = self.flatten(x)\n",
    "        print(x.shape)\n",
    "        #reshape\n",
    "        x = x.view(1,self.out_channels*8*self.batch_size)\n",
    "        x = self.linear(x)\n",
    "        #softmax\n",
    "        x = self.softmax(x)\n",
    "        \n",
    "        return x"
   ]
  },
  {
   "cell_type": "code",
   "execution_count": 22,
   "metadata": {},
   "outputs": [],
   "source": [
    "from torchsummary import summary"
   ]
  },
  {
   "cell_type": "code",
   "execution_count": 25,
   "metadata": {},
   "outputs": [],
   "source": [
    "resnet = ResNet(3,64,batch_size=2)"
   ]
  },
  {
   "cell_type": "code",
   "execution_count": 26,
   "metadata": {},
   "outputs": [
    {
     "name": "stdout",
     "output_type": "stream",
     "text": [
      "torch.Size([2, 3, 224, 224])\n",
      "torch.Size([2, 64, 112, 112])\n",
      "torch.Size([2, 64, 56, 56])\n",
      "torch.Size([2, 128, 28, 28]) torch.Size([2, 128, 28, 28])\n",
      "torch.Size([2, 128, 28, 28]) torch.Size([2, 128, 28, 28])\n",
      "torch.Size([2, 512, 7, 7])\n",
      "torch.Size([2, 512, 1, 1])\n",
      "torch.Size([2, 512, 1, 1])\n",
      "----------------------------------------------------------------\n",
      "        Layer (type)               Output Shape         Param #\n",
      "================================================================\n",
      "         MaxPool2d-1           [-1, 64, 56, 56]               0\n",
      "              ReLU-2           [-1, 64, 56, 56]               0\n",
      "              ReLU-3           [-1, 64, 56, 56]               0\n",
      "              ReLU-4           [-1, 64, 56, 56]               0\n",
      "              ReLU-5           [-1, 64, 56, 56]               0\n",
      "              ReLU-6          [-1, 128, 28, 28]               0\n",
      "              ReLU-7          [-1, 128, 28, 28]               0\n",
      "              ReLU-8          [-1, 128, 28, 28]               0\n",
      "              ReLU-9          [-1, 128, 28, 28]               0\n",
      "             ReLU-10          [-1, 256, 14, 14]               0\n",
      "             ReLU-11          [-1, 256, 14, 14]               0\n",
      "             ReLU-12          [-1, 256, 14, 14]               0\n",
      "             ReLU-13          [-1, 256, 14, 14]               0\n",
      "             ReLU-14            [-1, 512, 7, 7]               0\n",
      "             ReLU-15            [-1, 512, 7, 7]               0\n",
      "             ReLU-16            [-1, 512, 7, 7]               0\n",
      "             ReLU-17            [-1, 512, 7, 7]               0\n",
      "AdaptiveAvgPool2d-18            [-1, 512, 1, 1]               0\n",
      "          Flatten-19            [-1, 512, 1, 1]               0\n",
      "           Linear-20                 [-1, 1000]       1,025,000\n",
      "          Softmax-21                 [-1, 1000]               0\n",
      "================================================================\n",
      "Total params: 1,025,000\n",
      "Trainable params: 1,025,000\n",
      "Non-trainable params: 0\n",
      "----------------------------------------------------------------\n",
      "Input size (MB): 0.57\n",
      "Forward/backward pass size (MB): 13.04\n",
      "Params size (MB): 3.91\n",
      "Estimated Total Size (MB): 17.52\n",
      "----------------------------------------------------------------\n"
     ]
    }
   ],
   "source": [
    "summary(resnet, (3, 224, 224))"
   ]
  },
  {
   "cell_type": "code",
   "execution_count": 27,
   "metadata": {},
   "outputs": [],
   "source": [
    "import torchvision\n",
    "import torchvision.transforms as transforms"
   ]
  },
  {
   "cell_type": "code",
   "execution_count": 28,
   "metadata": {},
   "outputs": [
    {
     "name": "stdout",
     "output_type": "stream",
     "text": [
      "Files already downloaded and verified\n",
      "Files already downloaded and verified\n"
     ]
    }
   ],
   "source": [
    "transform = transforms.Compose(\n",
    "    [transforms.ToTensor(),\n",
    "     transforms.Normalize((0.5, 0.5, 0.5), (0.5, 0.5, 0.5))])\n",
    "\n",
    "trainset = torchvision.datasets.CIFAR10(root='./data', train=True,\n",
    "                                        download=True, transform=transform)\n",
    "trainloader = torch.utils.data.DataLoader(trainset, batch_size=4,\n",
    "                                          shuffle=True, num_workers=2)\n",
    "\n",
    "testset = torchvision.datasets.CIFAR10(root='./data', train=False,\n",
    "                                       download=True, transform=transform)\n",
    "testloader = torch.utils.data.DataLoader(testset, batch_size=4,\n",
    "                                         shuffle=False, num_workers=2)\n",
    "\n",
    "classes = ('plane', 'car', 'bird', 'cat',\n",
    "           'deer', 'dog', 'frog', 'horse', 'ship', 'truck')"
   ]
  },
  {
   "cell_type": "code",
   "execution_count": 29,
   "metadata": {},
   "outputs": [
    {
     "data": {
      "image/png": "[encoded data removed]",
      "text/plain": [
       "<Figure size 432x288 with 1 Axes>"
      ]
     },
     "metadata": {
      "needs_background": "light"
     },
     "output_type": "display_data"
    },
    {
     "name": "stdout",
     "output_type": "stream",
     "text": [
      " deer  ship   cat   cat\n"
     ]
    }
   ],
   "source": [
    " import matplotlib.pyplot as plt\n",
    "import numpy as np\n",
    "\n",
    "# functions to show an image\n",
    "\n",
    "\n",
    "def imshow(img):\n",
    "    img = img / 2 + 0.5     # unnormalize\n",
    "    npimg = img.numpy()\n",
    "    plt.imshow(np.transpose(npimg, (1, 2, 0)))\n",
    "    plt.show()\n",
    "\n",
    "\n",
    "# get some random training images\n",
    "dataiter = iter(trainloader)\n",
    "images, labels = dataiter.next()\n",
    "\n",
    "# show images\n",
    "imshow(torchvision.utils.make_grid(images))\n",
    "# print labels\n",
    "print(' '.join('%5s' % classes[labels[j]] for j in range(4)))"
   ]
  },
  {
   "cell_type": "code",
   "execution_count": 47,
   "metadata": {},
   "outputs": [],
   "source": [
    "import torch.optim as optim\n",
    "\n",
    "resnet = ResNet(3,64, batch_size=4)\n",
    "\n",
    "criterion = nn.CrossEntropyLoss()\n",
    "optimizer = optim.SGD(resnet.parameters(), lr=0.001, momentum=0.9)"
   ]
  },
  {
   "cell_type": "code",
   "execution_count": 48,
   "metadata": {},
   "outputs": [
    {
     "name": "stdout",
     "output_type": "stream",
     "text": [
      "torch.Size([4, 3, 32, 32])\n",
      "torch.Size([4, 3, 32, 32])\n",
      "torch.Size([4, 64, 16, 16])\n",
      "torch.Size([4, 64, 8, 8])\n",
      "torch.Size([4, 128, 4, 4]) torch.Size([4, 128, 4, 4])\n",
      "torch.Size([4, 128, 4, 4]) torch.Size([4, 128, 4, 4])\n",
      "torch.Size([4, 512, 1, 1])\n",
      "torch.Size([4, 512, 1, 1])\n",
      "torch.Size([4, 512, 1, 1])\n"
     ]
    },
    {
     "ename": "RuntimeError",
     "evalue": "shape '[1, 256]' is invalid for input of size 2048",
     "output_type": "error",
     "traceback": [
      "\u001b[1;31m---------------------------------------------------------------------------\u001b[0m",
      "\u001b[1;31mRuntimeError\u001b[0m                              Traceback (most recent call last)",
      "\u001b[1;32m<ipython-input-48-ac83b93f9b67>\u001b[0m in \u001b[0;36m<module>\u001b[1;34m\u001b[0m\n\u001b[0;32m     11\u001b[0m \u001b[1;33m\u001b[0m\u001b[0m\n\u001b[0;32m     12\u001b[0m         \u001b[1;31m# forward + backward + optimize\u001b[0m\u001b[1;33m\u001b[0m\u001b[1;33m\u001b[0m\u001b[1;33m\u001b[0m\u001b[0m\n\u001b[1;32m---> 13\u001b[1;33m         \u001b[0moutputs\u001b[0m \u001b[1;33m=\u001b[0m \u001b[0mresnet\u001b[0m\u001b[1;33m(\u001b[0m\u001b[0minputs\u001b[0m\u001b[1;33m)\u001b[0m\u001b[1;33m\u001b[0m\u001b[1;33m\u001b[0m\u001b[0m\n\u001b[0m\u001b[0;32m     14\u001b[0m         \u001b[0mloss\u001b[0m \u001b[1;33m=\u001b[0m \u001b[0mcriterion\u001b[0m\u001b[1;33m(\u001b[0m\u001b[0moutputs\u001b[0m\u001b[1;33m,\u001b[0m \u001b[0mlabels\u001b[0m\u001b[1;33m)\u001b[0m\u001b[1;33m\u001b[0m\u001b[1;33m\u001b[0m\u001b[0m\n\u001b[0;32m     15\u001b[0m         \u001b[0mloss\u001b[0m\u001b[1;33m.\u001b[0m\u001b[0mbackward\u001b[0m\u001b[1;33m(\u001b[0m\u001b[1;33m)\u001b[0m\u001b[1;33m\u001b[0m\u001b[1;33m\u001b[0m\u001b[0m\n",
      "\u001b[1;32m~\\Anaconda3\\envs\\ml\\lib\\site-packages\\torch\\nn\\modules\\module.py\u001b[0m in \u001b[0;36m__call__\u001b[1;34m(self, *input, **kwargs)\u001b[0m\n\u001b[0;32m    548\u001b[0m             \u001b[0mresult\u001b[0m \u001b[1;33m=\u001b[0m \u001b[0mself\u001b[0m\u001b[1;33m.\u001b[0m\u001b[0m_slow_forward\u001b[0m\u001b[1;33m(\u001b[0m\u001b[1;33m*\u001b[0m\u001b[0minput\u001b[0m\u001b[1;33m,\u001b[0m \u001b[1;33m**\u001b[0m\u001b[0mkwargs\u001b[0m\u001b[1;33m)\u001b[0m\u001b[1;33m\u001b[0m\u001b[1;33m\u001b[0m\u001b[0m\n\u001b[0;32m    549\u001b[0m         \u001b[1;32melse\u001b[0m\u001b[1;33m:\u001b[0m\u001b[1;33m\u001b[0m\u001b[1;33m\u001b[0m\u001b[0m\n\u001b[1;32m--> 550\u001b[1;33m             \u001b[0mresult\u001b[0m \u001b[1;33m=\u001b[0m \u001b[0mself\u001b[0m\u001b[1;33m.\u001b[0m\u001b[0mforward\u001b[0m\u001b[1;33m(\u001b[0m\u001b[1;33m*\u001b[0m\u001b[0minput\u001b[0m\u001b[1;33m,\u001b[0m \u001b[1;33m**\u001b[0m\u001b[0mkwargs\u001b[0m\u001b[1;33m)\u001b[0m\u001b[1;33m\u001b[0m\u001b[1;33m\u001b[0m\u001b[0m\n\u001b[0m\u001b[0;32m    551\u001b[0m         \u001b[1;32mfor\u001b[0m \u001b[0mhook\u001b[0m \u001b[1;32min\u001b[0m \u001b[0mself\u001b[0m\u001b[1;33m.\u001b[0m\u001b[0m_forward_hooks\u001b[0m\u001b[1;33m.\u001b[0m\u001b[0mvalues\u001b[0m\u001b[1;33m(\u001b[0m\u001b[1;33m)\u001b[0m\u001b[1;33m:\u001b[0m\u001b[1;33m\u001b[0m\u001b[1;33m\u001b[0m\u001b[0m\n\u001b[0;32m    552\u001b[0m             \u001b[0mhook_result\u001b[0m \u001b[1;33m=\u001b[0m \u001b[0mhook\u001b[0m\u001b[1;33m(\u001b[0m\u001b[0mself\u001b[0m\u001b[1;33m,\u001b[0m \u001b[0minput\u001b[0m\u001b[1;33m,\u001b[0m \u001b[0mresult\u001b[0m\u001b[1;33m)\u001b[0m\u001b[1;33m\u001b[0m\u001b[1;33m\u001b[0m\u001b[0m\n",
      "\u001b[1;32m<ipython-input-45-981960e1c8a9>\u001b[0m in \u001b[0;36mforward\u001b[1;34m(self, x)\u001b[0m\n\u001b[0;32m    123\u001b[0m         \u001b[0mprint\u001b[0m\u001b[1;33m(\u001b[0m\u001b[0mx\u001b[0m\u001b[1;33m.\u001b[0m\u001b[0mshape\u001b[0m\u001b[1;33m)\u001b[0m\u001b[1;33m\u001b[0m\u001b[1;33m\u001b[0m\u001b[0m\n\u001b[0;32m    124\u001b[0m         \u001b[1;31m#reshape\u001b[0m\u001b[1;33m\u001b[0m\u001b[1;33m\u001b[0m\u001b[1;33m\u001b[0m\u001b[0m\n\u001b[1;32m--> 125\u001b[1;33m         \u001b[0mx\u001b[0m \u001b[1;33m=\u001b[0m \u001b[0mx\u001b[0m\u001b[1;33m.\u001b[0m\u001b[0mview\u001b[0m\u001b[1;33m(\u001b[0m\u001b[1;36m1\u001b[0m\u001b[1;33m,\u001b[0m\u001b[0mself\u001b[0m\u001b[1;33m.\u001b[0m\u001b[0mout_channels\u001b[0m\u001b[1;33m*\u001b[0m\u001b[0mself\u001b[0m\u001b[1;33m.\u001b[0m\u001b[0mbatch_size\u001b[0m\u001b[1;33m)\u001b[0m\u001b[1;33m\u001b[0m\u001b[1;33m\u001b[0m\u001b[0m\n\u001b[0m\u001b[0;32m    126\u001b[0m         \u001b[0mx\u001b[0m \u001b[1;33m=\u001b[0m \u001b[0mself\u001b[0m\u001b[1;33m.\u001b[0m\u001b[0mlinear\u001b[0m\u001b[1;33m(\u001b[0m\u001b[0mx\u001b[0m\u001b[1;33m)\u001b[0m\u001b[1;33m\u001b[0m\u001b[1;33m\u001b[0m\u001b[0m\n\u001b[0;32m    127\u001b[0m         \u001b[1;31m#softmax\u001b[0m\u001b[1;33m\u001b[0m\u001b[1;33m\u001b[0m\u001b[1;33m\u001b[0m\u001b[0m\n",
      "\u001b[1;31mRuntimeError\u001b[0m: shape '[1, 256]' is invalid for input of size 2048"
     ]
    }
   ],
   "source": [
    "for epoch in range(2):  # loop over the dataset multiple times\n",
    "\n",
    "    running_loss = 0.0\n",
    "    for i, data in enumerate(trainloader, 0):\n",
    "        # get the inputs; data is a list of [inputs, labels]\n",
    "        inputs, labels = data\n",
    "        print(inputs.shape)\n",
    "\n",
    "        # zero the parameter gradients\n",
    "        optimizer.zero_grad()\n",
    "\n",
    "        # forward + backward + optimize\n",
    "        outputs = resnet(inputs)\n",
    "        loss = criterion(outputs, labels)\n",
    "        loss.backward()\n",
    "        optimizer.step()\n",
    "\n",
    "        # print statistics\n",
    "        running_loss += loss.item()\n",
    "        if i % 2000 == 1999:    # print every 2000 mini-batches\n",
    "            print('[%d, %5d] loss: %.3f' %\n",
    "                  (epoch + 1, i + 1, running_loss / 2000))\n",
    "            running_loss = 0.0\n",
    "\n",
    "print('Finished Training')"
   ]
  },
  {
   "cell_type": "code",
   "execution_count": null,
   "metadata": {},
   "outputs": [],
   "source": []
  },
  {
   "cell_type": "code",
   "execution_count": null,
   "metadata": {},
   "outputs": [],
   "source": []
  }
 ],
 "metadata": {
  "kernelspec": {
   "display_name": "Python 3",
   "language": "python",
   "name": "python3"
  },
  "language_info": {
   "codemirror_mode": {
    "name": "ipython",
    "version": 3
   },
   "file_extension": ".py",
   "mimetype": "text/x-python",
   "name": "python",
   "nbconvert_exporter": "python",
   "pygments_lexer": "ipython3",
   "version": "3.7.7"
  }
 },
 "nbformat": 4,
 "nbformat_minor": 4
}
