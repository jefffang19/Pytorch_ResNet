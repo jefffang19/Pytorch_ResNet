{
  "nbformat": 4,
  "nbformat_minor": 0,
  "metadata": {
    "kernelspec": {
      "display_name": "Python 3",
      "language": "python",
      "name": "python3"
    },
    "language_info": {
      "codemirror_mode": {
        "name": "ipython",
        "version": 3
      },
      "file_extension": ".py",
      "mimetype": "text/x-python",
      "name": "python",
      "nbconvert_exporter": "python",
      "pygments_lexer": "ipython3",
      "version": "3.7.7"
    },
    "colab": {
      "name": "ResNet.ipynb",
      "provenance": [],
      "collapsed_sections": []
    },
    "accelerator": "GPU"
  },
  "cells": [
    {
      "cell_type": "code",
      "metadata": {
        "id": "n1HuaUog7TV5",
        "colab_type": "code",
        "colab": {}
      },
      "source": [
        "import torch\n",
        "import torch.nn as nn"
      ],
      "execution_count": 2,
      "outputs": []
    },
    {
      "cell_type": "markdown",
      "metadata": {
        "id": "ndUaejnqOcUp",
        "colab_type": "text"
      },
      "source": [
        ""
      ]
    },
    {
      "cell_type": "markdown",
      "metadata": {
        "id": "zja6lo7F7TV8",
        "colab_type": "text"
      },
      "source": [
        "# My code starts here"
      ]
    },
    {
      "cell_type": "code",
      "metadata": {
        "id": "UEHj6mgC7TV9",
        "colab_type": "code",
        "colab": {}
      },
      "source": [
        "class ResidualBlock(nn.Module):\n",
        "    def __init__(self, in_channels, out_channels, kernel_size=3, stride=1):\n",
        "        super(ResidualBlock,self).__init__()\n",
        "        #convolution layer\n",
        "        self.conv = nn.Sequential(nn.Conv2d(in_channels, out_channels, kernel_size, padding=1, stride=stride),\n",
        "                     nn.Conv2d(out_channels, out_channels, kernel_size, padding=1))\n",
        "        #batch norm layer\n",
        "        self.bn1 = nn.BatchNorm2d(num_features=out_channels)\n",
        "        self.bn2 = nn.BatchNorm2d(num_features=out_channels)\n",
        "        \n",
        "        self.relu = nn.ReLU(inplace=True)\n",
        "        \n",
        "        #transit the input x's shape to match the output f_x's shape\n",
        "        self.trans = nn.Conv2d(in_channels, out_channels, kernel_size=1, stride=stride)\n",
        "        \n",
        "        #if input shape = output shape, no need to transut\n",
        "        self.isChanged = not in_channels == out_channels\n",
        "        \n",
        "    def forward(self, x):\n",
        "        f_x = self.conv[0](x)\n",
        "        f_x = self.bn1(f_x)\n",
        "        f_x = self.relu(f_x)\n",
        "        f_x = self.conv[1](f_x)\n",
        "        f_x = self.bn2(f_x)\n",
        "        \n",
        "        #residual path\n",
        "        if(self.isChanged):\n",
        "            x = self.trans(x)\n",
        "        #residual add\n",
        "        x = f_x + x\n",
        "        \n",
        "        x = self.relu(x)\n",
        "        \n",
        "        return x\n",
        "            "
      ],
      "execution_count": 14,
      "outputs": []
    },
    {
      "cell_type": "code",
      "metadata": {
        "id": "AzFO2cZj7TWA",
        "colab_type": "code",
        "colab": {}
      },
      "source": [
        "class ResNet(nn.Module):\n",
        "    def __init__(self, output_classes, numBlocks):\n",
        "        super(ResNet,self).__init__()\n",
        "        \n",
        "        self.sumOfRBlocks = sum(numBlocks)\n",
        "        \n",
        "        #convolution layer\n",
        "        self.conv = nn.Conv2d(in_channels=3, out_channels=64, kernel_size=7, padding=3, stride=2)\n",
        "        self.bn = nn.BatchNorm2d(64)\n",
        "        \n",
        "        #residual blocks\n",
        "        self.rblocks = nn.ModuleList()\n",
        "        for i in range(numBlocks[0]):\n",
        "            self.rblocks.append(ResidualBlock(64,64))\n",
        "        \n",
        "        self.rblocks.append(ResidualBlock(64,128,stride=2))  \n",
        "        for i in range(numBlocks[1] - 1):   \n",
        "            self.rblocks.append(ResidualBlock(128,128))\n",
        "        \n",
        "        self.rblocks.append(ResidualBlock(128,256,stride=2))\n",
        "        for i in range(numBlocks[2] - 1):\n",
        "            self.rblocks.append(ResidualBlock(256,256))\n",
        "        \n",
        "        self.rblocks.append(ResidualBlock(256,512,stride=2))\n",
        "        for i in range(numBlocks[3] - 1):\n",
        "            self.rblocks.append(ResidualBlock(512,512))\n",
        "\n",
        "        self.rblocks = nn.Sequential(*self.rblocks)\n",
        "        self.maxpool = nn.MaxPool2d(kernel_size=3, padding=1, stride=2)\n",
        "        self.avgpool = nn.AdaptiveAvgPool2d((1,1))\n",
        "        self.linear = nn.Linear(512, output_classes)\n",
        "        self.flatten = nn.Flatten(start_dim=1)\n",
        "        self.softmax = nn.Softmax(dim=1)\n",
        "    \n",
        "        \n",
        "    def forward(self, x):\n",
        "        x = self.conv(x)\n",
        "        x = self.bn(x)\n",
        "        x = self.maxpool(x)\n",
        "        \n",
        "        for i in range(self.sumOfRBlocks):\n",
        "          x = self.rblocks[i](x)\n",
        "        \n",
        "        x = self.avgpool(x)\n",
        "        #reshape\n",
        "        x = self.flatten(x)\n",
        "        x = self.linear(x)\n",
        "        x = self.softmax(x)\n",
        "        \n",
        "        return x"
      ],
      "execution_count": 15,
      "outputs": []
    },
    {
      "cell_type": "code",
      "metadata": {
        "id": "Q0DGCH9i7TWB",
        "colab_type": "code",
        "colab": {}
      },
      "source": [
        "from torchsummary import summary"
      ],
      "execution_count": 16,
      "outputs": []
    },
    {
      "cell_type": "code",
      "metadata": {
        "id": "2oY-M85zX1iu",
        "colab_type": "code",
        "colab": {
          "base_uri": "https://localhost:8080/",
          "height": 1000
        },
        "outputId": "cb914959-a267-4016-9475-e95fb25fd72e"
      },
      "source": [
        "resnet = ResNet(10,[2,2,2,2]).cuda()\n",
        "summary(resnet, (3,32,32))"
      ],
      "execution_count": 17,
      "outputs": [
        {
          "output_type": "stream",
          "text": [
            "----------------------------------------------------------------\n",
            "        Layer (type)               Output Shape         Param #\n",
            "================================================================\n",
            "            Conv2d-1           [-1, 64, 16, 16]           9,472\n",
            "       BatchNorm2d-2           [-1, 64, 16, 16]             128\n",
            "         MaxPool2d-3             [-1, 64, 8, 8]               0\n",
            "            Conv2d-4             [-1, 64, 8, 8]          36,928\n",
            "       BatchNorm2d-5             [-1, 64, 8, 8]             128\n",
            "              ReLU-6             [-1, 64, 8, 8]               0\n",
            "            Conv2d-7             [-1, 64, 8, 8]          36,928\n",
            "       BatchNorm2d-8             [-1, 64, 8, 8]             128\n",
            "              ReLU-9             [-1, 64, 8, 8]               0\n",
            "    ResidualBlock-10             [-1, 64, 8, 8]               0\n",
            "           Conv2d-11             [-1, 64, 8, 8]          36,928\n",
            "      BatchNorm2d-12             [-1, 64, 8, 8]             128\n",
            "             ReLU-13             [-1, 64, 8, 8]               0\n",
            "           Conv2d-14             [-1, 64, 8, 8]          36,928\n",
            "      BatchNorm2d-15             [-1, 64, 8, 8]             128\n",
            "             ReLU-16             [-1, 64, 8, 8]               0\n",
            "    ResidualBlock-17             [-1, 64, 8, 8]               0\n",
            "           Conv2d-18            [-1, 128, 4, 4]          73,856\n",
            "      BatchNorm2d-19            [-1, 128, 4, 4]             256\n",
            "             ReLU-20            [-1, 128, 4, 4]               0\n",
            "           Conv2d-21            [-1, 128, 4, 4]         147,584\n",
            "      BatchNorm2d-22            [-1, 128, 4, 4]             256\n",
            "           Conv2d-23            [-1, 128, 4, 4]           8,320\n",
            "             ReLU-24            [-1, 128, 4, 4]               0\n",
            "    ResidualBlock-25            [-1, 128, 4, 4]               0\n",
            "           Conv2d-26            [-1, 128, 4, 4]         147,584\n",
            "      BatchNorm2d-27            [-1, 128, 4, 4]             256\n",
            "             ReLU-28            [-1, 128, 4, 4]               0\n",
            "           Conv2d-29            [-1, 128, 4, 4]         147,584\n",
            "      BatchNorm2d-30            [-1, 128, 4, 4]             256\n",
            "             ReLU-31            [-1, 128, 4, 4]               0\n",
            "    ResidualBlock-32            [-1, 128, 4, 4]               0\n",
            "           Conv2d-33            [-1, 256, 2, 2]         295,168\n",
            "      BatchNorm2d-34            [-1, 256, 2, 2]             512\n",
            "             ReLU-35            [-1, 256, 2, 2]               0\n",
            "           Conv2d-36            [-1, 256, 2, 2]         590,080\n",
            "      BatchNorm2d-37            [-1, 256, 2, 2]             512\n",
            "           Conv2d-38            [-1, 256, 2, 2]          33,024\n",
            "             ReLU-39            [-1, 256, 2, 2]               0\n",
            "    ResidualBlock-40            [-1, 256, 2, 2]               0\n",
            "           Conv2d-41            [-1, 256, 2, 2]         590,080\n",
            "      BatchNorm2d-42            [-1, 256, 2, 2]             512\n",
            "             ReLU-43            [-1, 256, 2, 2]               0\n",
            "           Conv2d-44            [-1, 256, 2, 2]         590,080\n",
            "      BatchNorm2d-45            [-1, 256, 2, 2]             512\n",
            "             ReLU-46            [-1, 256, 2, 2]               0\n",
            "    ResidualBlock-47            [-1, 256, 2, 2]               0\n",
            "           Conv2d-48            [-1, 512, 1, 1]       1,180,160\n",
            "      BatchNorm2d-49            [-1, 512, 1, 1]           1,024\n",
            "             ReLU-50            [-1, 512, 1, 1]               0\n",
            "           Conv2d-51            [-1, 512, 1, 1]       2,359,808\n",
            "      BatchNorm2d-52            [-1, 512, 1, 1]           1,024\n",
            "           Conv2d-53            [-1, 512, 1, 1]         131,584\n",
            "             ReLU-54            [-1, 512, 1, 1]               0\n",
            "    ResidualBlock-55            [-1, 512, 1, 1]               0\n",
            "           Conv2d-56            [-1, 512, 1, 1]       2,359,808\n",
            "      BatchNorm2d-57            [-1, 512, 1, 1]           1,024\n",
            "             ReLU-58            [-1, 512, 1, 1]               0\n",
            "           Conv2d-59            [-1, 512, 1, 1]       2,359,808\n",
            "      BatchNorm2d-60            [-1, 512, 1, 1]           1,024\n",
            "             ReLU-61            [-1, 512, 1, 1]               0\n",
            "    ResidualBlock-62            [-1, 512, 1, 1]               0\n",
            "AdaptiveAvgPool2d-63            [-1, 512, 1, 1]               0\n",
            "          Flatten-64                  [-1, 512]               0\n",
            "           Linear-65                   [-1, 10]           5,130\n",
            "          Softmax-66                   [-1, 10]               0\n",
            "================================================================\n",
            "Total params: 11,184,650\n",
            "Trainable params: 11,184,650\n",
            "Non-trainable params: 0\n",
            "----------------------------------------------------------------\n",
            "Input size (MB): 0.01\n",
            "Forward/backward pass size (MB): 1.14\n",
            "Params size (MB): 42.67\n",
            "Estimated Total Size (MB): 43.81\n",
            "----------------------------------------------------------------\n"
          ],
          "name": "stdout"
        }
      ]
    },
    {
      "cell_type": "code",
      "metadata": {
        "id": "x2k_7nYO7TWH",
        "colab_type": "code",
        "colab": {}
      },
      "source": [
        "import torchvision\n",
        "import torchvision.transforms as transforms"
      ],
      "execution_count": 18,
      "outputs": []
    },
    {
      "cell_type": "code",
      "metadata": {
        "id": "oKLlFvNI7TWJ",
        "colab_type": "code",
        "colab": {
          "base_uri": "https://localhost:8080/",
          "height": 50
        },
        "outputId": "05c48b2c-e344-4d44-c0c6-5d7ffc2a14da"
      },
      "source": [
        "transform = transforms.Compose(\n",
        "    [transforms.ToTensor(),\n",
        "     transforms.Normalize((0.5, 0.5, 0.5), (0.5, 0.5, 0.5))])\n",
        "\n",
        "trainset = torchvision.datasets.CIFAR10(root='./data', train=True,\n",
        "                                        download=True, transform=transform)\n",
        "trainloader = torch.utils.data.DataLoader(trainset, batch_size=16,\n",
        "                                          shuffle=True, num_workers=2)\n",
        "\n",
        "testset = torchvision.datasets.CIFAR10(root='./data', train=False,\n",
        "                                       download=True, transform=transform)\n",
        "testloader = torch.utils.data.DataLoader(testset, batch_size=4,\n",
        "                                         shuffle=False, num_workers=2)\n",
        "\n",
        "classes = ('plane', 'car', 'bird', 'cat',\n",
        "           'deer', 'dog', 'frog', 'horse', 'ship', 'truck')"
      ],
      "execution_count": 19,
      "outputs": [
        {
          "output_type": "stream",
          "text": [
            "Files already downloaded and verified\n",
            "Files already downloaded and verified\n"
          ],
          "name": "stdout"
        }
      ]
    },
    {
      "cell_type": "code",
      "metadata": {
        "id": "WmIQMNkJezzH",
        "colab_type": "code",
        "colab": {
          "base_uri": "https://localhost:8080/",
          "height": 34
        },
        "outputId": "1af97bcd-aa31-411d-e4bb-fb1b8ed631bf"
      },
      "source": [
        "len(trainset)"
      ],
      "execution_count": 20,
      "outputs": [
        {
          "output_type": "execute_result",
          "data": {
            "text/plain": [
              "50000"
            ]
          },
          "metadata": {
            "tags": []
          },
          "execution_count": 20
        }
      ]
    },
    {
      "cell_type": "code",
      "metadata": {
        "id": "IxLvsrYehlyC",
        "colab_type": "code",
        "colab": {}
      },
      "source": [
        "def trainLoaders(*datasets, batch_size=4):\n",
        "  loaders = []\n",
        "  for i in datasets:\n",
        "    loaders.append(torch.utils.data.DataLoader(i, batch_size=batch_size, shuffle=True))\n",
        "  \n",
        "  return loaders"
      ],
      "execution_count": null,
      "outputs": []
    },
    {
      "cell_type": "code",
      "metadata": {
        "id": "aT9ZzX5AZiym",
        "colab_type": "code",
        "colab": {}
      },
      "source": [
        "#split the training dataset into 5 fold\n",
        "len_trainset_5 = (int)(len(trainset)/5)\n",
        "training_sets = torch.utils.data.random_split(trainset, [len_trainset_5,len_trainset_5,len_trainset_5,len_trainset_5,len_trainset_5])\n",
        "training_sets\n",
        "training_loaders = trainLoaders(*training_sets)"
      ],
      "execution_count": null,
      "outputs": []
    },
    {
      "cell_type": "code",
      "metadata": {
        "id": "QWwgGFWK7TWL",
        "colab_type": "code",
        "colab": {
          "base_uri": "https://localhost:8080/",
          "height": 154
        },
        "outputId": "9b610943-76a4-4be7-cb91-34ae7b202d39"
      },
      "source": [
        "import matplotlib.pyplot as plt\n",
        "import numpy as np\n",
        "\n",
        "# functions to show an image\n",
        "\n",
        "\n",
        "def imshow(img):\n",
        "    img = img / 2 + 0.5     # unnormalize\n",
        "    npimg = img.numpy()\n",
        "    plt.imshow(np.transpose(npimg, (1, 2, 0)))\n",
        "    plt.show()\n",
        "\n",
        "\n",
        "# get some random training images\n",
        "dataiter = iter(trainloader)\n",
        "images, labels = dataiter.next()\n",
        "\n",
        "# show images\n",
        "imshow(torchvision.utils.make_grid(images))\n",
        "# print labels\n",
        "print(' '.join('%5s' % classes[labels[j]] for j in range(4)))"
      ],
      "execution_count": null,
      "outputs": [
        {
          "output_type": "display_data",
          "data": {
            "image/png": "[encoded data removed]",
            "text/plain": [
              "<Figure size 432x288 with 1 Axes>"
            ]
          },
          "metadata": {
            "tags": [],
            "needs_background": "light"
          }
        },
        {
          "output_type": "stream",
          "text": [
            "plane   dog horse  ship\n"
          ],
          "name": "stdout"
        }
      ]
    },
    {
      "cell_type": "code",
      "metadata": {
        "id": "oHrjFY7s7TWN",
        "colab_type": "code",
        "colab": {}
      },
      "source": [
        "import torch.optim as optim\n",
        "\n",
        "resnet = ResNet(output_classes=10, numBlocks=[2,2,2,2])\n",
        "#gpu\n",
        "resnet.cuda()\n",
        "\n",
        "criterion = nn.CrossEntropyLoss()\n",
        "optimizer = optim.SGD(resnet.parameters(), lr=0.001, momentum=0.9)"
      ],
      "execution_count": null,
      "outputs": []
    },
    {
      "cell_type": "code",
      "metadata": {
        "id": "KLRbv4MTVyUE",
        "colab_type": "code",
        "colab": {
          "base_uri": "https://localhost:8080/",
          "height": 1000
        },
        "outputId": "8dc2841a-23ce-42e3-c39f-19f6c02cc817"
      },
      "source": [
        "print(resnet)"
      ],
      "execution_count": null,
      "outputs": [
        {
          "output_type": "stream",
          "text": [
            "ResNet(\n",
            "  (conv): Conv2d(3, 64, kernel_size=(7, 7), stride=(2, 2), padding=(3, 3))\n",
            "  (bn): BatchNorm2d(64, eps=1e-05, momentum=0.1, affine=True, track_running_stats=True)\n",
            "  (rblocks): Sequential(\n",
            "    (0): ResidualBlock(\n",
            "      (conv): Sequential(\n",
            "        (0): Conv2d(64, 64, kernel_size=(3, 3), stride=(1, 1), padding=(1, 1))\n",
            "        (1): Conv2d(64, 64, kernel_size=(3, 3), stride=(1, 1), padding=(1, 1))\n",
            "      )\n",
            "      (bn): BatchNorm2d(64, eps=1e-05, momentum=0.1, affine=True, track_running_stats=True)\n",
            "      (relu): ReLU(inplace=True)\n",
            "      (trans): Conv2d(64, 64, kernel_size=(1, 1), stride=(1, 1))\n",
            "    )\n",
            "    (1): ResidualBlock(\n",
            "      (conv): Sequential(\n",
            "        (0): Conv2d(64, 64, kernel_size=(3, 3), stride=(1, 1), padding=(1, 1))\n",
            "        (1): Conv2d(64, 64, kernel_size=(3, 3), stride=(1, 1), padding=(1, 1))\n",
            "      )\n",
            "      (bn): BatchNorm2d(64, eps=1e-05, momentum=0.1, affine=True, track_running_stats=True)\n",
            "      (relu): ReLU(inplace=True)\n",
            "      (trans): Conv2d(64, 64, kernel_size=(1, 1), stride=(1, 1))\n",
            "    )\n",
            "    (2): ResidualBlock(\n",
            "      (conv): Sequential(\n",
            "        (0): Conv2d(64, 128, kernel_size=(3, 3), stride=(2, 2), padding=(1, 1))\n",
            "        (1): Conv2d(128, 128, kernel_size=(3, 3), stride=(1, 1), padding=(1, 1))\n",
            "      )\n",
            "      (bn): BatchNorm2d(128, eps=1e-05, momentum=0.1, affine=True, track_running_stats=True)\n",
            "      (relu): ReLU(inplace=True)\n",
            "      (trans): Conv2d(64, 128, kernel_size=(1, 1), stride=(2, 2))\n",
            "    )\n",
            "    (3): ResidualBlock(\n",
            "      (conv): Sequential(\n",
            "        (0): Conv2d(128, 128, kernel_size=(3, 3), stride=(1, 1), padding=(1, 1))\n",
            "        (1): Conv2d(128, 128, kernel_size=(3, 3), stride=(1, 1), padding=(1, 1))\n",
            "      )\n",
            "      (bn): BatchNorm2d(128, eps=1e-05, momentum=0.1, affine=True, track_running_stats=True)\n",
            "      (relu): ReLU(inplace=True)\n",
            "      (trans): Conv2d(128, 128, kernel_size=(1, 1), stride=(1, 1))\n",
            "    )\n",
            "    (4): ResidualBlock(\n",
            "      (conv): Sequential(\n",
            "        (0): Conv2d(128, 256, kernel_size=(3, 3), stride=(2, 2), padding=(1, 1))\n",
            "        (1): Conv2d(256, 256, kernel_size=(3, 3), stride=(1, 1), padding=(1, 1))\n",
            "      )\n",
            "      (bn): BatchNorm2d(256, eps=1e-05, momentum=0.1, affine=True, track_running_stats=True)\n",
            "      (relu): ReLU(inplace=True)\n",
            "      (trans): Conv2d(128, 256, kernel_size=(1, 1), stride=(2, 2))\n",
            "    )\n",
            "    (5): ResidualBlock(\n",
            "      (conv): Sequential(\n",
            "        (0): Conv2d(256, 256, kernel_size=(3, 3), stride=(1, 1), padding=(1, 1))\n",
            "        (1): Conv2d(256, 256, kernel_size=(3, 3), stride=(1, 1), padding=(1, 1))\n",
            "      )\n",
            "      (bn): BatchNorm2d(256, eps=1e-05, momentum=0.1, affine=True, track_running_stats=True)\n",
            "      (relu): ReLU(inplace=True)\n",
            "      (trans): Conv2d(256, 256, kernel_size=(1, 1), stride=(1, 1))\n",
            "    )\n",
            "    (6): ResidualBlock(\n",
            "      (conv): Sequential(\n",
            "        (0): Conv2d(256, 512, kernel_size=(3, 3), stride=(2, 2), padding=(1, 1))\n",
            "        (1): Conv2d(512, 512, kernel_size=(3, 3), stride=(1, 1), padding=(1, 1))\n",
            "      )\n",
            "      (bn): BatchNorm2d(512, eps=1e-05, momentum=0.1, affine=True, track_running_stats=True)\n",
            "      (relu): ReLU(inplace=True)\n",
            "      (trans): Conv2d(256, 512, kernel_size=(1, 1), stride=(2, 2))\n",
            "    )\n",
            "    (7): ResidualBlock(\n",
            "      (conv): Sequential(\n",
            "        (0): Conv2d(512, 512, kernel_size=(3, 3), stride=(1, 1), padding=(1, 1))\n",
            "        (1): Conv2d(512, 512, kernel_size=(3, 3), stride=(1, 1), padding=(1, 1))\n",
            "      )\n",
            "      (bn): BatchNorm2d(512, eps=1e-05, momentum=0.1, affine=True, track_running_stats=True)\n",
            "      (relu): ReLU(inplace=True)\n",
            "      (trans): Conv2d(512, 512, kernel_size=(1, 1), stride=(1, 1))\n",
            "    )\n",
            "  )\n",
            "  (maxpool): MaxPool2d(kernel_size=3, stride=2, padding=1, dilation=1, ceil_mode=False)\n",
            "  (avgpool): AdaptiveAvgPool2d(output_size=(1, 1))\n",
            "  (linear): Linear(in_features=512, out_features=10, bias=True)\n",
            "  (flatten): Flatten()\n",
            "  (softmax): Softmax(dim=1)\n",
            ")\n"
          ],
          "name": "stdout"
        }
      ]
    },
    {
      "cell_type": "code",
      "metadata": {
        "id": "mH8dry6IQ0w9",
        "colab_type": "code",
        "colab": {
          "base_uri": "https://localhost:8080/",
          "height": 34
        },
        "outputId": "265540c5-4216-45e2-b28d-f824582c6ab1"
      },
      "source": [
        "torch.cuda.is_available()"
      ],
      "execution_count": 21,
      "outputs": [
        {
          "output_type": "execute_result",
          "data": {
            "text/plain": [
              "True"
            ]
          },
          "metadata": {
            "tags": []
          },
          "execution_count": 21
        }
      ]
    },
    {
      "cell_type": "code",
      "metadata": {
        "scrolled": true,
        "id": "dydQXORP7TWP",
        "colab_type": "code",
        "colab": {
          "base_uri": "https://localhost:8080/",
          "height": 1000
        },
        "outputId": "068ad1c2-f3e6-40b2-a0ca-00e15529e6ca"
      },
      "source": [
        "for epoch in range(10):  # loop over the dataset multiple times\n",
        "    batch_count = 0\n",
        "    #5-fold validation\n",
        "    #let the k-th trainloader be the validation\n",
        "    for k in range(5):\n",
        "      for n_fold in range(5):\n",
        "        _trainloader = training_loaders[n_fold]\n",
        "\n",
        "        #do not train the validation data\n",
        "        if(n_fold == k): continue\n",
        "\n",
        "        running_loss = 0.0\n",
        "        for _, data in enumerate(_trainloader, 0):\n",
        "            # get the inputs; data is a list of [inputs, labels]\n",
        "            inputs, labels = data\n",
        "            #gpu\n",
        "            inputs = inputs.cuda()\n",
        "            labels = labels.cuda()\n",
        "            #print(i, end = \" \")\n",
        "\n",
        "            # zero the parameter gradients\n",
        "            optimizer.zero_grad()\n",
        "\n",
        "            # forward + backward + optimize\n",
        "            outputs = resnet(inputs)\n",
        "            loss = criterion(outputs, labels)\n",
        "            loss.backward()\n",
        "            optimizer.step()\n",
        "\n",
        "            batch_count +=1\n",
        "\n",
        "            # print statistics\n",
        "            running_loss += loss.item()\n",
        "            if batch_count % 500 == 499:    # print every 500 mini-batches\n",
        "                print('[%d, %5d] loss: %.3f' %\n",
        "                      (epoch + 1, batch_count + 1, running_loss / 500))\n",
        "                running_loss = 0.0\n",
        "        \n",
        "                #validation\n",
        "                validation_loader = training_loaders[k]\n",
        "\n",
        "                correct = 0\n",
        "                total = 0\n",
        "                with torch.no_grad():\n",
        "                    for data in validation_loader:\n",
        "                        images, labels = data\n",
        "                        #gpu\n",
        "                        images = images.cuda()\n",
        "                        labels = labels.cuda()\n",
        "                        outputs = resnet(images)\n",
        "                        _, predicted = torch.max(outputs.data, 1)\n",
        "                        total += labels.size(0)\n",
        "                        correct += (predicted == labels).sum().item()\n",
        "\n",
        "                print('Accuracy of the network on the validation set: %d %%' % (\n",
        "                    100 * correct / total))\n",
        "\n",
        "\n",
        "\n",
        "print('Finished Training')"
      ],
      "execution_count": null,
      "outputs": [
        {
          "output_type": "stream",
          "text": [
            "[1,   500] loss: 2.235\n",
            "Accuracy of the network on the validation set: 21 %\n",
            "[1,  1000] loss: 2.223\n",
            "Accuracy of the network on the validation set: 22 %\n",
            "[1,  1500] loss: 2.230\n",
            "Accuracy of the network on the validation set: 19 %\n",
            "[1,  2000] loss: 2.230\n",
            "Accuracy of the network on the validation set: 22 %\n",
            "[1,  2500] loss: 2.201\n",
            "Accuracy of the network on the validation set: 22 %\n",
            "[1,  3000] loss: 2.204\n",
            "Accuracy of the network on the validation set: 26 %\n",
            "[1,  3500] loss: 2.185\n",
            "Accuracy of the network on the validation set: 25 %\n",
            "[1,  4000] loss: 2.155\n",
            "Accuracy of the network on the validation set: 26 %\n",
            "[1,  4500] loss: 2.173\n",
            "Accuracy of the network on the validation set: 27 %\n",
            "[1,  5000] loss: 2.168\n",
            "Accuracy of the network on the validation set: 28 %\n",
            "[1,  5500] loss: 2.168\n",
            "Accuracy of the network on the validation set: 30 %\n",
            "[1,  6000] loss: 2.166\n",
            "Accuracy of the network on the validation set: 28 %\n",
            "[1,  6500] loss: 2.144\n",
            "Accuracy of the network on the validation set: 30 %\n",
            "[1,  7000] loss: 2.141\n",
            "Accuracy of the network on the validation set: 30 %\n",
            "[1,  7500] loss: 2.140\n",
            "Accuracy of the network on the validation set: 31 %\n",
            "[1,  8000] loss: 2.128\n",
            "Accuracy of the network on the validation set: 33 %\n",
            "[1,  8500] loss: 2.140\n",
            "Accuracy of the network on the validation set: 31 %\n",
            "[1,  9000] loss: 2.116\n",
            "Accuracy of the network on the validation set: 32 %\n",
            "[1,  9500] loss: 2.122\n",
            "Accuracy of the network on the validation set: 32 %\n",
            "[1, 10000] loss: 2.125\n",
            "Accuracy of the network on the validation set: 33 %\n",
            "[1, 10500] loss: 2.118\n",
            "Accuracy of the network on the validation set: 31 %\n",
            "[1, 11000] loss: 2.129\n",
            "Accuracy of the network on the validation set: 34 %\n",
            "[1, 11500] loss: 2.128\n",
            "Accuracy of the network on the validation set: 32 %\n",
            "[1, 12000] loss: 2.106\n",
            "Accuracy of the network on the validation set: 36 %\n",
            "[1, 12500] loss: 2.102\n",
            "Accuracy of the network on the validation set: 35 %\n",
            "[1, 13000] loss: 2.110\n",
            "Accuracy of the network on the validation set: 31 %\n",
            "[1, 13500] loss: 2.095\n",
            "Accuracy of the network on the validation set: 34 %\n",
            "[1, 14000] loss: 2.093\n",
            "Accuracy of the network on the validation set: 34 %\n",
            "[1, 14500] loss: 2.112\n",
            "Accuracy of the network on the validation set: 33 %\n",
            "[1, 15000] loss: 2.085\n",
            "Accuracy of the network on the validation set: 38 %\n",
            "[1, 15500] loss: 2.080\n",
            "Accuracy of the network on the validation set: 36 %\n",
            "[1, 16000] loss: 2.076\n"
          ],
          "name": "stdout"
        }
      ]
    },
    {
      "cell_type": "code",
      "metadata": {
        "id": "VF1OUSQKVoBo",
        "colab_type": "code",
        "colab": {
          "base_uri": "https://localhost:8080/",
          "height": 34
        },
        "outputId": "12613d9b-819b-4305-ea86-cfec061ba1b7"
      },
      "source": [
        "#test accuracy\n",
        "correct = 0\n",
        "total = 0\n",
        "with torch.no_grad():\n",
        "    for data in testloader:\n",
        "        images, labels = data\n",
        "        #gpu\n",
        "        images = images.cuda()\n",
        "        labels = labels.cuda()\n",
        "        outputs = resnet(images)\n",
        "        _, predicted = torch.max(outputs.data, 1)\n",
        "        total += labels.size(0)\n",
        "        correct += (predicted == labels).sum().item()\n",
        "\n",
        "print('Accuracy of the network on the 10000 test images: %d %%' % (\n",
        "    100 * correct / total))"
      ],
      "execution_count": null,
      "outputs": [
        {
          "output_type": "stream",
          "text": [
            "Accuracy of the network on the 10000 test images: 48 %\n"
          ],
          "name": "stdout"
        }
      ]
    },
    {
      "cell_type": "code",
      "metadata": {
        "id": "7Z0Etbo77TWR",
        "colab_type": "code",
        "colab": {
          "base_uri": "https://localhost:8080/",
          "height": 138
        },
        "outputId": "2c4c984c-8a2b-4a04-e0a6-62ca0399fe02"
      },
      "source": [
        "it = iter(testloader)\n",
        "img, label = it.next()\n",
        "imshow(torchvision.utils.make_grid(img))"
      ],
      "execution_count": null,
      "outputs": [
        {
          "output_type": "display_data",
          "data": {
            "image/png": "[encoded data removed]",
            "text/plain": [
              "<Figure size 432x288 with 1 Axes>"
            ]
          },
          "metadata": {
            "tags": [],
            "needs_background": "light"
          }
        }
      ]
    },
    {
      "cell_type": "code",
      "metadata": {
        "id": "ll3wtJJO7TWT",
        "colab_type": "code",
        "colab": {}
      },
      "source": [
        "img = img.cuda()\n",
        "out = resnet(img)"
      ],
      "execution_count": null,
      "outputs": []
    },
    {
      "cell_type": "code",
      "metadata": {
        "id": "sbVhwpWh7TWV",
        "colab_type": "code",
        "colab": {
          "base_uri": "https://localhost:8080/",
          "height": 67
        },
        "outputId": "699e37f8-883d-4c22-e48c-269f8735f76f"
      },
      "source": [
        "out[0]"
      ],
      "execution_count": null,
      "outputs": [
        {
          "output_type": "execute_result",
          "data": {
            "text/plain": [
              "tensor([1.1714e-03, 6.7494e-05, 6.3858e-02, 8.4967e-01, 5.5794e-03, 3.0995e-04,\n",
              "        7.9286e-02, 1.9486e-06, 8.4512e-06, 5.0403e-05], device='cuda:0',\n",
              "       grad_fn=<SelectBackward>)"
            ]
          },
          "metadata": {
            "tags": []
          },
          "execution_count": 65
        }
      ]
    },
    {
      "cell_type": "code",
      "metadata": {
        "id": "41HWR4NF7TWX",
        "colab_type": "code",
        "colab": {}
      },
      "source": [
        "def predict(batch_img, class_num, show_top_n):\n",
        "    imshow(torchvision.utils.make_grid(batch_img.cpu()))\n",
        "    out = resnet(batch_img)\n",
        "    cnt = 0\n",
        "    for i in out:\n",
        "        print(\"Image \" + str(cnt))\n",
        "        cnt += 1\n",
        "        labelAcc = []\n",
        "        for j in range(class_num):\n",
        "            labelAcc.append([j,i[j]])\n",
        "        labelAcc.sort(key = lambda s:s[1], reverse = True)\n",
        "        for j in range(show_top_n):\n",
        "            print(classes[labelAcc[j][0]] + \": \" + str(float(labelAcc[j][1])))"
      ],
      "execution_count": null,
      "outputs": []
    },
    {
      "cell_type": "code",
      "metadata": {
        "id": "yWu-tsPF7TWY",
        "colab_type": "code",
        "colab": {
          "base_uri": "https://localhost:8080/",
          "height": 340
        },
        "outputId": "22fbb0bf-784e-4505-affc-edf627c81cb7"
      },
      "source": [
        "predict(img, 10 ,2)"
      ],
      "execution_count": null,
      "outputs": [
        {
          "output_type": "display_data",
          "data": {
            "image/png": "[encoded data removed]",
            "text/plain": [
              "<Figure size 432x288 with 1 Axes>"
            ]
          },
          "metadata": {
            "tags": [],
            "needs_background": "light"
          }
        },
        {
          "output_type": "stream",
          "text": [
            "Image 0\n",
            "cat: 0.8496667146682739\n",
            "frog: 0.07928629219532013\n",
            "Image 1\n",
            "plane: 0.949557363986969\n",
            "car: 0.05043414235115051\n",
            "Image 2\n",
            "car: 1.0\n",
            "ship: 4.699398648000397e-10\n",
            "Image 3\n",
            "plane: 0.9995096921920776\n",
            "ship: 0.0004902101936750114\n"
          ],
          "name": "stdout"
        }
      ]
    },
    {
      "cell_type": "code",
      "metadata": {
        "id": "cg4SgfLNEWhU",
        "colab_type": "code",
        "colab": {
          "base_uri": "https://localhost:8080/",
          "height": 340
        },
        "outputId": "6593ae80-6049-4820-a10d-6f40fb4ec628"
      },
      "source": [
        "img, label = it.next()\n",
        "img = img.cuda()\n",
        "out = resnet(img)\n",
        "predict(img, 10, 2)"
      ],
      "execution_count": null,
      "outputs": [
        {
          "output_type": "display_data",
          "data": {
            "image/png": "[encoded data removed]",
            "text/plain": [
              "<Figure size 432x288 with 1 Axes>"
            ]
          },
          "metadata": {
            "tags": [],
            "needs_background": "light"
          }
        },
        {
          "output_type": "stream",
          "text": [
            "Image 0\n",
            "cat: 0.4744272530078888\n",
            "ship: 0.400687575340271\n",
            "Image 1\n",
            "frog: 1.0\n",
            "cat: 7.377896515947668e-09\n",
            "Image 2\n",
            "car: 0.7227272391319275\n",
            "dog: 0.14292758703231812\n",
            "Image 3\n",
            "frog: 0.33472272753715515\n",
            "plane: 0.32305851578712463\n"
          ],
          "name": "stdout"
        }
      ]
    },
    {
      "cell_type": "code",
      "metadata": {
        "id": "rcaoVIloFfmN",
        "colab_type": "code",
        "colab": {
          "base_uri": "https://localhost:8080/",
          "height": 121
        },
        "outputId": "04f9aed8-2d74-4084-8842-2d670e4a4fc4"
      },
      "source": [
        "from google.colab import drive\n",
        "drive.mount('/content/gdrive')"
      ],
      "execution_count": null,
      "outputs": [
        {
          "output_type": "stream",
          "text": [
            "Go to this URL in a browser: https://accounts.google.com/o/oauth2/auth?client_id=947318989803-6bn6qk8qdgf4n4g3pfee6491hc0brc4i.apps.googleusercontent.com&redirect_uri=urn%3aietf%3awg%3aoauth%3a2.0%3aoob&response_type=code&scope=email%20https%3a%2f%2fwww.googleapis.com%2fauth%2fdocs.test%20https%3a%2f%2fwww.googleapis.com%2fauth%2fdrive%20https%3a%2f%2fwww.googleapis.com%2fauth%2fdrive.photos.readonly%20https%3a%2f%2fwww.googleapis.com%2fauth%2fpeopleapi.readonly\n",
            "\n",
            "Enter your authorization code:\n",
            "··········\n",
            "Mounted at /content/gdrive\n"
          ],
          "name": "stdout"
        }
      ]
    },
    {
      "cell_type": "code",
      "metadata": {
        "id": "CbLq49CqGcs4",
        "colab_type": "code",
        "colab": {
          "base_uri": "https://localhost:8080/",
          "height": 50
        },
        "outputId": "4c25b162-2f09-43d6-e0e5-b4971d1a381a"
      },
      "source": [
        "!ls \"/content/gdrive/My Drive\""
      ],
      "execution_count": null,
      "outputs": [
        {
          "output_type": "stream",
          "text": [
            "android_orientation_part2.gdoc\tiir_training_python\n",
            "android_orientation_part2.pdf\n"
          ],
          "name": "stdout"
        }
      ]
    },
    {
      "cell_type": "code",
      "metadata": {
        "id": "sL1v8e9bHBMl",
        "colab_type": "code",
        "colab": {}
      },
      "source": [
        "path = F\"/content/gdrive/My Drive/iir_training_python/resnet18.pt\""
      ],
      "execution_count": null,
      "outputs": []
    },
    {
      "cell_type": "code",
      "metadata": {
        "id": "wFqyvezaICtL",
        "colab_type": "code",
        "colab": {}
      },
      "source": [
        "#save model\n",
        "torch.save(resnet.state_dict(), path)"
      ],
      "execution_count": null,
      "outputs": []
    },
    {
      "cell_type": "code",
      "metadata": {
        "id": "9Vbs-fK8GJ-Q",
        "colab_type": "code",
        "colab": {}
      },
      "source": [
        "from google.colab import drive\n",
        "drive.mount('/content/gdrive')\n",
        "path = F\"/content/gdrive/My Drive/iir_training_python/resnet34.pt\"\n",
        "#save model\n",
        "torch.save(resnet.state_dict(), path)"
      ],
      "execution_count": null,
      "outputs": []
    },
    {
      "cell_type": "markdown",
      "metadata": {
        "id": "UqCGAdT39fph",
        "colab_type": "text"
      },
      "source": [
        "# Resnet 34"
      ]
    },
    {
      "cell_type": "code",
      "metadata": {
        "id": "1XU7d3Zu__Ph",
        "colab_type": "code",
        "colab": {}
      },
      "source": [
        "#split train data into 80% train 20% validation\n",
        "len_trainset_5 = (int)(len(trainset)/5)\n",
        "training_set, valid_set = torch.utils.data.random_split(trainset, [len_trainset_5*4,len_trainset_5])\n",
        "\n",
        "training_loader = torch.utils.data.DataLoader(training_set, batch_size=32, shuffle=True, num_workers=4)\n",
        "valid_loader = torch.utils.data.DataLoader(valid_set, batch_size=32, shuffle=True, num_workers=4)"
      ],
      "execution_count": 22,
      "outputs": []
    },
    {
      "cell_type": "code",
      "metadata": {
        "id": "ATfVqNco-89T",
        "colab_type": "code",
        "colab": {}
      },
      "source": [
        "import torch.optim as optim\n",
        "\n",
        "resnet34 = ResNet(output_classes=10, numBlocks=[3,4,6,3])\n",
        "#gpu\n",
        "resnet34.cuda()\n",
        "\n",
        "criterion = nn.CrossEntropyLoss()\n",
        "optimizer = optim.SGD(resnet34.parameters(), lr=0.001, momentum=0.9)"
      ],
      "execution_count": 23,
      "outputs": []
    },
    {
      "cell_type": "code",
      "metadata": {
        "id": "62VZpqzt_B2O",
        "colab_type": "code",
        "colab": {
          "base_uri": "https://localhost:8080/",
          "height": 1000
        },
        "outputId": "05a97dfa-faaa-4a4f-c0b5-38f473100207"
      },
      "source": [
        "for epoch in range(50):  # loop over the dataset multiple times\n",
        "    running_loss = 0.0\n",
        "    for i, data in enumerate(training_loader, 0):\n",
        "        # get the inputs; data is a list of [inputs, labels]\n",
        "        inputs, labels = data\n",
        "        #gpu\n",
        "        inputs = inputs.cuda()\n",
        "        labels = labels.cuda()\n",
        "        #print(i, end = \" \")\n",
        "\n",
        "        # zero the parameter gradients\n",
        "        optimizer.zero_grad()\n",
        "\n",
        "        # forward + backward + optimize\n",
        "        outputs = resnet34(inputs)\n",
        "        loss = criterion(outputs, labels)\n",
        "        loss.backward()\n",
        "        optimizer.step()\n",
        "\n",
        "        # print statistics\n",
        "        running_loss += loss.item()\n",
        "        if i % 1000 == 999:    # print every 1000 mini-batches\n",
        "            print('[%d, %5d] loss: %.3f' %\n",
        "                  (epoch + 1, i + 1, running_loss / 1000))\n",
        "            running_loss = 0.0\n",
        "    \n",
        "            #validation\n",
        "            correct = 0\n",
        "            total = 0\n",
        "            with torch.no_grad():\n",
        "                for data in valid_loader:\n",
        "                    images, labels = data\n",
        "                    #gpu\n",
        "                    images = images.cuda()\n",
        "                    labels = labels.cuda()\n",
        "                    outputs = resnet34(images)\n",
        "                    _, predicted = torch.max(outputs.data, 1)\n",
        "                    total += labels.size(0)\n",
        "                    correct += (predicted == labels).sum().item()\n",
        "\n",
        "            print('Accuracy of the network on the validation set: %d %%' % (\n",
        "                100 * correct / total))\n",
        "\n",
        "\n",
        "\n",
        "print('Finished Training')"
      ],
      "execution_count": 24,
      "outputs": [
        {
          "output_type": "stream",
          "text": [
            "[1,  1000] loss: 2.094\n",
            "Accuracy of the network on the validation set: 40 %\n",
            "[2,  1000] loss: 2.006\n",
            "Accuracy of the network on the validation set: 44 %\n",
            "[3,  1000] loss: 1.960\n",
            "Accuracy of the network on the validation set: 49 %\n",
            "[4,  1000] loss: 1.933\n",
            "Accuracy of the network on the validation set: 51 %\n",
            "[5,  1000] loss: 1.908\n",
            "Accuracy of the network on the validation set: 54 %\n",
            "[6,  1000] loss: 1.896\n",
            "Accuracy of the network on the validation set: 54 %\n",
            "[7,  1000] loss: 1.879\n",
            "Accuracy of the network on the validation set: 56 %\n",
            "[8,  1000] loss: 1.856\n",
            "Accuracy of the network on the validation set: 58 %\n",
            "[9,  1000] loss: 1.834\n",
            "Accuracy of the network on the validation set: 58 %\n",
            "[10,  1000] loss: 1.831\n",
            "Accuracy of the network on the validation set: 60 %\n",
            "[11,  1000] loss: 1.818\n",
            "Accuracy of the network on the validation set: 60 %\n",
            "[12,  1000] loss: 1.808\n",
            "Accuracy of the network on the validation set: 61 %\n",
            "[13,  1000] loss: 1.796\n",
            "Accuracy of the network on the validation set: 61 %\n",
            "[14,  1000] loss: 1.788\n",
            "Accuracy of the network on the validation set: 63 %\n",
            "[15,  1000] loss: 1.778\n",
            "Accuracy of the network on the validation set: 64 %\n",
            "[16,  1000] loss: 1.768\n",
            "Accuracy of the network on the validation set: 62 %\n",
            "[17,  1000] loss: 1.765\n",
            "Accuracy of the network on the validation set: 66 %\n",
            "[18,  1000] loss: 1.753\n",
            "Accuracy of the network on the validation set: 65 %\n",
            "[19,  1000] loss: 1.744\n",
            "Accuracy of the network on the validation set: 65 %\n",
            "[20,  1000] loss: 1.736\n",
            "Accuracy of the network on the validation set: 66 %\n",
            "[21,  1000] loss: 1.733\n",
            "Accuracy of the network on the validation set: 66 %\n",
            "[22,  1000] loss: 1.729\n",
            "Accuracy of the network on the validation set: 67 %\n",
            "[23,  1000] loss: 1.723\n",
            "Accuracy of the network on the validation set: 68 %\n",
            "[24,  1000] loss: 1.718\n",
            "Accuracy of the network on the validation set: 68 %\n",
            "[25,  1000] loss: 1.711\n",
            "Accuracy of the network on the validation set: 68 %\n",
            "[26,  1000] loss: 1.706\n",
            "Accuracy of the network on the validation set: 68 %\n",
            "[27,  1000] loss: 1.700\n",
            "Accuracy of the network on the validation set: 69 %\n",
            "[28,  1000] loss: 1.686\n",
            "Accuracy of the network on the validation set: 69 %\n",
            "[29,  1000] loss: 1.686\n",
            "Accuracy of the network on the validation set: 70 %\n",
            "[30,  1000] loss: 1.678\n",
            "Accuracy of the network on the validation set: 69 %\n",
            "[31,  1000] loss: 1.671\n",
            "Accuracy of the network on the validation set: 70 %\n",
            "[32,  1000] loss: 1.666\n",
            "Accuracy of the network on the validation set: 69 %\n",
            "[33,  1000] loss: 1.659\n",
            "Accuracy of the network on the validation set: 69 %\n",
            "[34,  1000] loss: 1.658\n",
            "Accuracy of the network on the validation set: 71 %\n",
            "[35,  1000] loss: 1.655\n",
            "Accuracy of the network on the validation set: 70 %\n",
            "[36,  1000] loss: 1.648\n",
            "Accuracy of the network on the validation set: 69 %\n",
            "[37,  1000] loss: 1.642\n",
            "Accuracy of the network on the validation set: 71 %\n",
            "[38,  1000] loss: 1.643\n",
            "Accuracy of the network on the validation set: 71 %\n",
            "[39,  1000] loss: 1.632\n",
            "Accuracy of the network on the validation set: 71 %\n",
            "[40,  1000] loss: 1.629\n",
            "Accuracy of the network on the validation set: 71 %\n",
            "[41,  1000] loss: 1.620\n",
            "Accuracy of the network on the validation set: 71 %\n",
            "[42,  1000] loss: 1.623\n",
            "Accuracy of the network on the validation set: 71 %\n",
            "[43,  1000] loss: 1.614\n",
            "Accuracy of the network on the validation set: 72 %\n",
            "[44,  1000] loss: 1.611\n",
            "Accuracy of the network on the validation set: 71 %\n",
            "[45,  1000] loss: 1.607\n",
            "Accuracy of the network on the validation set: 72 %\n",
            "[46,  1000] loss: 1.602\n",
            "Accuracy of the network on the validation set: 72 %\n",
            "[47,  1000] loss: 1.596\n",
            "Accuracy of the network on the validation set: 72 %\n",
            "[48,  1000] loss: 1.586\n",
            "Accuracy of the network on the validation set: 73 %\n",
            "[49,  1000] loss: 1.588\n",
            "Accuracy of the network on the validation set: 73 %\n",
            "[50,  1000] loss: 1.583\n",
            "Accuracy of the network on the validation set: 72 %\n",
            "Finished Training\n"
          ],
          "name": "stdout"
        }
      ]
    },
    {
      "cell_type": "code",
      "metadata": {
        "id": "L9sgbecEFVTF",
        "colab_type": "code",
        "colab": {
          "base_uri": "https://localhost:8080/",
          "height": 34
        },
        "outputId": "ff34366b-35f2-4de3-d785-0ece80280fa3"
      },
      "source": [
        "#test accuracy\n",
        "correct = 0\n",
        "total = 0\n",
        "with torch.no_grad():\n",
        "    for data in testloader:\n",
        "        images, labels = data\n",
        "        #gpu\n",
        "        images = images.cuda()\n",
        "        labels = labels.cuda()\n",
        "        outputs = resnet34(images)\n",
        "        _, predicted = torch.max(outputs.data, 1)\n",
        "        total += labels.size(0)\n",
        "        correct += (predicted == labels).sum().item()\n",
        "\n",
        "print('Accuracy of the network on the 10000 test images: %d %%' % (\n",
        "    100 * correct / total))"
      ],
      "execution_count": 26,
      "outputs": [
        {
          "output_type": "stream",
          "text": [
            "Accuracy of the network on the 10000 test images: 66 %\n"
          ],
          "name": "stdout"
        }
      ]
    },
    {
      "cell_type": "code",
      "metadata": {
        "id": "XbhDlSJ4GO4l",
        "colab_type": "code",
        "colab": {
          "base_uri": "https://localhost:8080/",
          "height": 121
        },
        "outputId": "65d9364a-8d80-471a-8617-60cf9dc1d62b"
      },
      "source": [
        "from google.colab import drive\n",
        "drive.mount('/content/gdrive')\n",
        "path = F\"/content/gdrive/My Drive/iir_training_python/resnet34.pt\"\n",
        "#save model\n",
        "torch.save(resnet.state_dict(), path)"
      ],
      "execution_count": 27,
      "outputs": [
        {
          "output_type": "stream",
          "text": [
            "Go to this URL in a browser: https://accounts.google.com/o/oauth2/auth?client_id=947318989803-6bn6qk8qdgf4n4g3pfee6491hc0brc4i.apps.googleusercontent.com&redirect_uri=urn%3aietf%3awg%3aoauth%3a2.0%3aoob&scope=email%20https%3a%2f%2fwww.googleapis.com%2fauth%2fdocs.test%20https%3a%2f%2fwww.googleapis.com%2fauth%2fdrive%20https%3a%2f%2fwww.googleapis.com%2fauth%2fdrive.photos.readonly%20https%3a%2f%2fwww.googleapis.com%2fauth%2fpeopleapi.readonly&response_type=code\n",
            "\n",
            "Enter your authorization code:\n",
            "··········\n",
            "Mounted at /content/gdrive\n"
          ],
          "name": "stdout"
        }
      ]
    },
    {
      "cell_type": "markdown",
      "metadata": {
        "id": "_KmtJQEO9cAY",
        "colab_type": "text"
      },
      "source": [
        "# Resnet 50, 101"
      ]
    },
    {
      "cell_type": "code",
      "metadata": {
        "id": "a0Q2HUEH7TWa",
        "colab_type": "code",
        "colab": {}
      },
      "source": [
        "class ResidualBlockBottleneck(nn.Module):\n",
        "    def __init__(self, in_channels, out_channels, kernel_size=3, stride=1):\n",
        "        super(ResidualBlockBottleneck,self).__init__()\n",
        "\n",
        "        mid_channels = out_channels//4\n",
        "        #convolution layer\n",
        "        self.conv = nn.Sequential(nn.Conv2d(in_channels, mid_channels, kernel_size=1, stride=stride),\n",
        "                     nn.Conv2d(mid_channels, mid_channels, kernel_size, padding=1),\n",
        "                     nn.Conv2d(mid_channels, out_channels, kernel_size=1))\n",
        "        \n",
        "        #batch norm layer\n",
        "        self.bn1 = nn.BatchNorm2d(num_features=mid_channels)\n",
        "        self.bn2 = nn.BatchNorm2d(num_features=out_channels)\n",
        "        \n",
        "        self.relu = nn.ReLU(inplace=True)\n",
        "        \n",
        "        #transit the input x's shape to match the output f_x's shape\n",
        "        self.trans = nn.Conv2d(in_channels, out_channels, kernel_size=1, stride=stride)\n",
        "        \n",
        "        #if input shape = output shape, no need to transut\n",
        "        self.isChanged = not in_channels == out_channels\n",
        "        \n",
        "    def forward(self, x):\n",
        "        f_x = self.conv[0](x)\n",
        "        f_x = self.bn1(f_x)\n",
        "        f_x = self.relu(f_x)\n",
        "        f_x = self.conv[1](f_x)\n",
        "        f_x = self.bn1(f_x)\n",
        "        f_x = self.relu(f_x)\n",
        "        f_x = self.conv[2](f_x)\n",
        "        f_x = self.bn2(f_x)\n",
        "        f_x = self.relu(f_x)\n",
        "        \n",
        "        #residual path\n",
        "        if(self.isChanged):\n",
        "            x = self.trans(x)\n",
        "        #residual add\n",
        "        x = f_x + x\n",
        "        \n",
        "        x = self.relu(x)\n",
        "        \n",
        "        return x\n",
        "            "
      ],
      "execution_count": null,
      "outputs": []
    },
    {
      "cell_type": "code",
      "metadata": {
        "id": "IGxqzfj07TWd",
        "colab_type": "code",
        "colab": {}
      },
      "source": [
        "class ResNetDeep(nn.Module):\n",
        "    def __init__(self, output_classes, numBlocks):\n",
        "        super(ResNetDeep,self).__init__()\n",
        "        \n",
        "        self.sumOfRBlocks = sum(numBlocks)\n",
        "        \n",
        "        #convolution layer\n",
        "        self.conv = nn.Conv2d(in_channels=3, out_channels=64, kernel_size=7, padding=3, stride=2)\n",
        "        self.bn = nn.BatchNorm2d(num_features=64)\n",
        "\n",
        "        #residual blocks\n",
        "        self.rblocks = nn.ModuleList()\n",
        "        self.rblocks.append(ResidualBlockBottleneck(64,256))\n",
        "        for i in range(numBlocks[0] - 1):\n",
        "            self.rblocks.append(ResidualBlockBottleneck(256,256))\n",
        "        \n",
        "        self.rblocks.append(ResidualBlockBottleneck(256,512,stride=2))  \n",
        "        for i in range(numBlocks[1] - 1):   \n",
        "            self.rblocks.append(ResidualBlockBottleneck(512,512))\n",
        "        \n",
        "        self.rblocks.append(ResidualBlockBottleneck(512,1024,stride=2))\n",
        "        for i in range(numBlocks[2] - 1):\n",
        "            self.rblocks.append(ResidualBlockBottleneck(1024,1024))\n",
        "        \n",
        "        self.rblocks.append(ResidualBlockBottleneck(1024,2048,stride=2))\n",
        "        for i in range(numBlocks[3] - 1):\n",
        "            self.rblocks.append(ResidualBlockBottleneck(2048,2048))\n",
        "\n",
        "        self.rblocks = nn.Sequential(*self.rblocks)\n",
        "        self.maxpool = nn.MaxPool2d(kernel_size=3, padding=1, stride=2)\n",
        "        self.avgpool = nn.AdaptiveAvgPool2d((1,1))\n",
        "        self.linear = nn.Linear(2048, output_classes)\n",
        "        self.flatten = nn.Flatten(start_dim=1)\n",
        "        self.softmax = nn.Softmax(dim=1)\n",
        "    \n",
        "        \n",
        "    def forward(self, x):\n",
        "        x = self.conv(x)\n",
        "        x = self.bn(x)\n",
        "        x = self.maxpool(x)\n",
        "        \n",
        "        for i in range(self.sumOfRBlocks):\n",
        "          x = self.rblocks[i](x)\n",
        "        \n",
        "        x = self.avgpool(x)\n",
        "        #reshape\n",
        "        x = self.flatten(x)\n",
        "        x = self.linear(x)\n",
        "        x = self.softmax(x)\n",
        "        \n",
        "        return x"
      ],
      "execution_count": null,
      "outputs": []
    },
    {
      "cell_type": "code",
      "metadata": {
        "id": "6tZyd9s419su",
        "colab_type": "code",
        "colab": {
          "base_uri": "https://localhost:8080/",
          "height": 1000
        },
        "outputId": "be24af79-e8ee-4478-e575-0cb0778368e9"
      },
      "source": [
        "resnetdeep = ResNetDeep(10,[3,4,6,3]).cuda()\n",
        "summary(resnetdeep, (3,32,32), device='cuda')"
      ],
      "execution_count": null,
      "outputs": [
        {
          "output_type": "stream",
          "text": [
            "----------------------------------------------------------------\n",
            "        Layer (type)               Output Shape         Param #\n",
            "================================================================\n",
            "            Conv2d-1           [-1, 64, 16, 16]           9,472\n",
            "       BatchNorm2d-2           [-1, 64, 16, 16]             128\n",
            "         MaxPool2d-3             [-1, 64, 8, 8]               0\n",
            "            Conv2d-4             [-1, 64, 8, 8]           4,160\n",
            "       BatchNorm2d-5             [-1, 64, 8, 8]             128\n",
            "              ReLU-6             [-1, 64, 8, 8]               0\n",
            "            Conv2d-7             [-1, 64, 8, 8]          36,928\n",
            "       BatchNorm2d-8             [-1, 64, 8, 8]             128\n",
            "              ReLU-9             [-1, 64, 8, 8]               0\n",
            "           Conv2d-10            [-1, 256, 8, 8]          16,640\n",
            "      BatchNorm2d-11            [-1, 256, 8, 8]             512\n",
            "             ReLU-12            [-1, 256, 8, 8]               0\n",
            "           Conv2d-13            [-1, 256, 8, 8]          16,640\n",
            "             ReLU-14            [-1, 256, 8, 8]               0\n",
            "ResidualBlockBottleneck-15            [-1, 256, 8, 8]               0\n",
            "           Conv2d-16             [-1, 64, 8, 8]          16,448\n",
            "      BatchNorm2d-17             [-1, 64, 8, 8]             128\n",
            "             ReLU-18             [-1, 64, 8, 8]               0\n",
            "           Conv2d-19             [-1, 64, 8, 8]          36,928\n",
            "      BatchNorm2d-20             [-1, 64, 8, 8]             128\n",
            "             ReLU-21             [-1, 64, 8, 8]               0\n",
            "           Conv2d-22            [-1, 256, 8, 8]          16,640\n",
            "      BatchNorm2d-23            [-1, 256, 8, 8]             512\n",
            "             ReLU-24            [-1, 256, 8, 8]               0\n",
            "             ReLU-25            [-1, 256, 8, 8]               0\n",
            "ResidualBlockBottleneck-26            [-1, 256, 8, 8]               0\n",
            "           Conv2d-27             [-1, 64, 8, 8]          16,448\n",
            "      BatchNorm2d-28             [-1, 64, 8, 8]             128\n",
            "             ReLU-29             [-1, 64, 8, 8]               0\n",
            "           Conv2d-30             [-1, 64, 8, 8]          36,928\n",
            "      BatchNorm2d-31             [-1, 64, 8, 8]             128\n",
            "             ReLU-32             [-1, 64, 8, 8]               0\n",
            "           Conv2d-33            [-1, 256, 8, 8]          16,640\n",
            "      BatchNorm2d-34            [-1, 256, 8, 8]             512\n",
            "             ReLU-35            [-1, 256, 8, 8]               0\n",
            "             ReLU-36            [-1, 256, 8, 8]               0\n",
            "ResidualBlockBottleneck-37            [-1, 256, 8, 8]               0\n",
            "           Conv2d-38            [-1, 128, 4, 4]          32,896\n",
            "      BatchNorm2d-39            [-1, 128, 4, 4]             256\n",
            "             ReLU-40            [-1, 128, 4, 4]               0\n",
            "           Conv2d-41            [-1, 128, 4, 4]         147,584\n",
            "      BatchNorm2d-42            [-1, 128, 4, 4]             256\n",
            "             ReLU-43            [-1, 128, 4, 4]               0\n",
            "           Conv2d-44            [-1, 512, 4, 4]          66,048\n",
            "      BatchNorm2d-45            [-1, 512, 4, 4]           1,024\n",
            "             ReLU-46            [-1, 512, 4, 4]               0\n",
            "           Conv2d-47            [-1, 512, 4, 4]         131,584\n",
            "             ReLU-48            [-1, 512, 4, 4]               0\n",
            "ResidualBlockBottleneck-49            [-1, 512, 4, 4]               0\n",
            "           Conv2d-50            [-1, 128, 4, 4]          65,664\n",
            "      BatchNorm2d-51            [-1, 128, 4, 4]             256\n",
            "             ReLU-52            [-1, 128, 4, 4]               0\n",
            "           Conv2d-53            [-1, 128, 4, 4]         147,584\n",
            "      BatchNorm2d-54            [-1, 128, 4, 4]             256\n",
            "             ReLU-55            [-1, 128, 4, 4]               0\n",
            "           Conv2d-56            [-1, 512, 4, 4]          66,048\n",
            "      BatchNorm2d-57            [-1, 512, 4, 4]           1,024\n",
            "             ReLU-58            [-1, 512, 4, 4]               0\n",
            "             ReLU-59            [-1, 512, 4, 4]               0\n",
            "ResidualBlockBottleneck-60            [-1, 512, 4, 4]               0\n",
            "           Conv2d-61            [-1, 128, 4, 4]          65,664\n",
            "      BatchNorm2d-62            [-1, 128, 4, 4]             256\n",
            "             ReLU-63            [-1, 128, 4, 4]               0\n",
            "           Conv2d-64            [-1, 128, 4, 4]         147,584\n",
            "      BatchNorm2d-65            [-1, 128, 4, 4]             256\n",
            "             ReLU-66            [-1, 128, 4, 4]               0\n",
            "           Conv2d-67            [-1, 512, 4, 4]          66,048\n",
            "      BatchNorm2d-68            [-1, 512, 4, 4]           1,024\n",
            "             ReLU-69            [-1, 512, 4, 4]               0\n",
            "             ReLU-70            [-1, 512, 4, 4]               0\n",
            "ResidualBlockBottleneck-71            [-1, 512, 4, 4]               0\n",
            "           Conv2d-72            [-1, 128, 4, 4]          65,664\n",
            "      BatchNorm2d-73            [-1, 128, 4, 4]             256\n",
            "             ReLU-74            [-1, 128, 4, 4]               0\n",
            "           Conv2d-75            [-1, 128, 4, 4]         147,584\n",
            "      BatchNorm2d-76            [-1, 128, 4, 4]             256\n",
            "             ReLU-77            [-1, 128, 4, 4]               0\n",
            "           Conv2d-78            [-1, 512, 4, 4]          66,048\n",
            "      BatchNorm2d-79            [-1, 512, 4, 4]           1,024\n",
            "             ReLU-80            [-1, 512, 4, 4]               0\n",
            "             ReLU-81            [-1, 512, 4, 4]               0\n",
            "ResidualBlockBottleneck-82            [-1, 512, 4, 4]               0\n",
            "           Conv2d-83            [-1, 256, 2, 2]         131,328\n",
            "      BatchNorm2d-84            [-1, 256, 2, 2]             512\n",
            "             ReLU-85            [-1, 256, 2, 2]               0\n",
            "           Conv2d-86            [-1, 256, 2, 2]         590,080\n",
            "      BatchNorm2d-87            [-1, 256, 2, 2]             512\n",
            "             ReLU-88            [-1, 256, 2, 2]               0\n",
            "           Conv2d-89           [-1, 1024, 2, 2]         263,168\n",
            "      BatchNorm2d-90           [-1, 1024, 2, 2]           2,048\n",
            "             ReLU-91           [-1, 1024, 2, 2]               0\n",
            "           Conv2d-92           [-1, 1024, 2, 2]         525,312\n",
            "             ReLU-93           [-1, 1024, 2, 2]               0\n",
            "ResidualBlockBottleneck-94           [-1, 1024, 2, 2]               0\n",
            "           Conv2d-95            [-1, 256, 2, 2]         262,400\n",
            "      BatchNorm2d-96            [-1, 256, 2, 2]             512\n",
            "             ReLU-97            [-1, 256, 2, 2]               0\n",
            "           Conv2d-98            [-1, 256, 2, 2]         590,080\n",
            "      BatchNorm2d-99            [-1, 256, 2, 2]             512\n",
            "            ReLU-100            [-1, 256, 2, 2]               0\n",
            "          Conv2d-101           [-1, 1024, 2, 2]         263,168\n",
            "     BatchNorm2d-102           [-1, 1024, 2, 2]           2,048\n",
            "            ReLU-103           [-1, 1024, 2, 2]               0\n",
            "            ReLU-104           [-1, 1024, 2, 2]               0\n",
            "ResidualBlockBottleneck-105           [-1, 1024, 2, 2]               0\n",
            "          Conv2d-106            [-1, 256, 2, 2]         262,400\n",
            "     BatchNorm2d-107            [-1, 256, 2, 2]             512\n",
            "            ReLU-108            [-1, 256, 2, 2]               0\n",
            "          Conv2d-109            [-1, 256, 2, 2]         590,080\n",
            "     BatchNorm2d-110            [-1, 256, 2, 2]             512\n",
            "            ReLU-111            [-1, 256, 2, 2]               0\n",
            "          Conv2d-112           [-1, 1024, 2, 2]         263,168\n",
            "     BatchNorm2d-113           [-1, 1024, 2, 2]           2,048\n",
            "            ReLU-114           [-1, 1024, 2, 2]               0\n",
            "            ReLU-115           [-1, 1024, 2, 2]               0\n",
            "ResidualBlockBottleneck-116           [-1, 1024, 2, 2]               0\n",
            "          Conv2d-117            [-1, 256, 2, 2]         262,400\n",
            "     BatchNorm2d-118            [-1, 256, 2, 2]             512\n",
            "            ReLU-119            [-1, 256, 2, 2]               0\n",
            "          Conv2d-120            [-1, 256, 2, 2]         590,080\n",
            "     BatchNorm2d-121            [-1, 256, 2, 2]             512\n",
            "            ReLU-122            [-1, 256, 2, 2]               0\n",
            "          Conv2d-123           [-1, 1024, 2, 2]         263,168\n",
            "     BatchNorm2d-124           [-1, 1024, 2, 2]           2,048\n",
            "            ReLU-125           [-1, 1024, 2, 2]               0\n",
            "            ReLU-126           [-1, 1024, 2, 2]               0\n",
            "ResidualBlockBottleneck-127           [-1, 1024, 2, 2]               0\n",
            "          Conv2d-128            [-1, 256, 2, 2]         262,400\n",
            "     BatchNorm2d-129            [-1, 256, 2, 2]             512\n",
            "            ReLU-130            [-1, 256, 2, 2]               0\n",
            "          Conv2d-131            [-1, 256, 2, 2]         590,080\n",
            "     BatchNorm2d-132            [-1, 256, 2, 2]             512\n",
            "            ReLU-133            [-1, 256, 2, 2]               0\n",
            "          Conv2d-134           [-1, 1024, 2, 2]         263,168\n",
            "     BatchNorm2d-135           [-1, 1024, 2, 2]           2,048\n",
            "            ReLU-136           [-1, 1024, 2, 2]               0\n",
            "            ReLU-137           [-1, 1024, 2, 2]               0\n",
            "ResidualBlockBottleneck-138           [-1, 1024, 2, 2]               0\n",
            "          Conv2d-139            [-1, 256, 2, 2]         262,400\n",
            "     BatchNorm2d-140            [-1, 256, 2, 2]             512\n",
            "            ReLU-141            [-1, 256, 2, 2]               0\n",
            "          Conv2d-142            [-1, 256, 2, 2]         590,080\n",
            "     BatchNorm2d-143            [-1, 256, 2, 2]             512\n",
            "            ReLU-144            [-1, 256, 2, 2]               0\n",
            "          Conv2d-145           [-1, 1024, 2, 2]         263,168\n",
            "     BatchNorm2d-146           [-1, 1024, 2, 2]           2,048\n",
            "            ReLU-147           [-1, 1024, 2, 2]               0\n",
            "            ReLU-148           [-1, 1024, 2, 2]               0\n",
            "ResidualBlockBottleneck-149           [-1, 1024, 2, 2]               0\n",
            "          Conv2d-150            [-1, 512, 1, 1]         524,800\n",
            "     BatchNorm2d-151            [-1, 512, 1, 1]           1,024\n",
            "            ReLU-152            [-1, 512, 1, 1]               0\n",
            "          Conv2d-153            [-1, 512, 1, 1]       2,359,808\n",
            "     BatchNorm2d-154            [-1, 512, 1, 1]           1,024\n",
            "            ReLU-155            [-1, 512, 1, 1]               0\n",
            "          Conv2d-156           [-1, 2048, 1, 1]       1,050,624\n",
            "     BatchNorm2d-157           [-1, 2048, 1, 1]           4,096\n",
            "            ReLU-158           [-1, 2048, 1, 1]               0\n",
            "          Conv2d-159           [-1, 2048, 1, 1]       2,099,200\n",
            "            ReLU-160           [-1, 2048, 1, 1]               0\n",
            "ResidualBlockBottleneck-161           [-1, 2048, 1, 1]               0\n",
            "          Conv2d-162            [-1, 512, 1, 1]       1,049,088\n",
            "     BatchNorm2d-163            [-1, 512, 1, 1]           1,024\n",
            "            ReLU-164            [-1, 512, 1, 1]               0\n",
            "          Conv2d-165            [-1, 512, 1, 1]       2,359,808\n",
            "     BatchNorm2d-166            [-1, 512, 1, 1]           1,024\n",
            "            ReLU-167            [-1, 512, 1, 1]               0\n",
            "          Conv2d-168           [-1, 2048, 1, 1]       1,050,624\n",
            "     BatchNorm2d-169           [-1, 2048, 1, 1]           4,096\n",
            "            ReLU-170           [-1, 2048, 1, 1]               0\n",
            "            ReLU-171           [-1, 2048, 1, 1]               0\n",
            "ResidualBlockBottleneck-172           [-1, 2048, 1, 1]               0\n",
            "          Conv2d-173            [-1, 512, 1, 1]       1,049,088\n",
            "     BatchNorm2d-174            [-1, 512, 1, 1]           1,024\n",
            "            ReLU-175            [-1, 512, 1, 1]               0\n",
            "          Conv2d-176            [-1, 512, 1, 1]       2,359,808\n",
            "     BatchNorm2d-177            [-1, 512, 1, 1]           1,024\n",
            "            ReLU-178            [-1, 512, 1, 1]               0\n",
            "          Conv2d-179           [-1, 2048, 1, 1]       1,050,624\n",
            "     BatchNorm2d-180           [-1, 2048, 1, 1]           4,096\n",
            "            ReLU-181           [-1, 2048, 1, 1]               0\n",
            "            ReLU-182           [-1, 2048, 1, 1]               0\n",
            "ResidualBlockBottleneck-183           [-1, 2048, 1, 1]               0\n",
            "AdaptiveAvgPool2d-184           [-1, 2048, 1, 1]               0\n",
            "         Flatten-185                 [-1, 2048]               0\n",
            "          Linear-186                   [-1, 10]          20,490\n",
            "         Softmax-187                   [-1, 10]               0\n",
            "================================================================\n",
            "Total params: 23,547,402\n",
            "Trainable params: 23,547,402\n",
            "Non-trainable params: 0\n",
            "----------------------------------------------------------------\n",
            "Input size (MB): 0.01\n",
            "Forward/backward pass size (MB): 6.13\n",
            "Params size (MB): 89.83\n",
            "Estimated Total Size (MB): 95.97\n",
            "----------------------------------------------------------------\n"
          ],
          "name": "stdout"
        }
      ]
    },
    {
      "cell_type": "code",
      "metadata": {
        "id": "075MOIEx2PTA",
        "colab_type": "code",
        "colab": {}
      },
      "source": [
        "#split train data into 80% train 20% validation\n",
        "len_trainset_5 = (int)(len(trainset)/5)\n",
        "training_set, valid_set = torch.utils.data.random_split(trainset, [len_trainset_5*4,len_trainset_5])\n",
        "\n",
        "training_loader = torch.utils.data.DataLoader(training_set, batch_size=32, shuffle=True, num_workers=4)\n",
        "valid_loader = torch.utils.data.DataLoader(valid_set, batch_size=32, shuffle=True, num_workers=4)"
      ],
      "execution_count": null,
      "outputs": []
    },
    {
      "cell_type": "code",
      "metadata": {
        "id": "qaEyid5h8rSS",
        "colab_type": "code",
        "colab": {
          "base_uri": "https://localhost:8080/",
          "height": 50
        },
        "outputId": "438e5567-68d6-40fd-d42d-705b8cb4f5f4"
      },
      "source": [
        "print(len(valid_loader))\n",
        "len(training_loader)"
      ],
      "execution_count": null,
      "outputs": [
        {
          "output_type": "stream",
          "text": [
            "313\n"
          ],
          "name": "stdout"
        },
        {
          "output_type": "execute_result",
          "data": {
            "text/plain": [
              "1250"
            ]
          },
          "metadata": {
            "tags": []
          },
          "execution_count": 139
        }
      ]
    },
    {
      "cell_type": "code",
      "metadata": {
        "id": "zi3G9ckW8qGf",
        "colab_type": "code",
        "colab": {}
      },
      "source": [
        "import torch.optim as optim\n",
        "\n",
        "resnetdeep = ResNetDeep(output_classes=10, numBlocks=[3,4,6,3])\n",
        "#gpu\n",
        "resnetdeep.cuda()\n",
        "\n",
        "criterion = nn.CrossEntropyLoss()\n",
        "optimizer = optim.SGD(resnetdeep.parameters(), lr=0.001, momentum=0.9)"
      ],
      "execution_count": null,
      "outputs": []
    },
    {
      "cell_type": "code",
      "metadata": {
        "id": "znpvkC3p83d0",
        "colab_type": "code",
        "colab": {
          "base_uri": "https://localhost:8080/",
          "height": 1000
        },
        "outputId": "98f61804-7ebe-47ed-d27d-f5b45b78fad7"
      },
      "source": [
        "for epoch in range(30):  # loop over the dataset multiple times\n",
        "    running_loss = 0.0\n",
        "    for i, data in enumerate(training_loader, 0):\n",
        "        # get the inputs; data is a list of [inputs, labels]\n",
        "        inputs, labels = data\n",
        "        #gpu\n",
        "        inputs = inputs.cuda()\n",
        "        labels = labels.cuda()\n",
        "        #print(i, end = \" \")\n",
        "\n",
        "        # zero the parameter gradients\n",
        "        optimizer.zero_grad()\n",
        "\n",
        "        # forward + backward + optimize\n",
        "        outputs = resnetdeep(inputs)\n",
        "        loss = criterion(outputs, labels)\n",
        "        loss.backward()\n",
        "        optimizer.step()\n",
        "\n",
        "        # print statistics\n",
        "        running_loss += loss.item()\n",
        "        if i % 1000 == 999:    # print every 1000 mini-batches\n",
        "            print('[%d, %5d] loss: %.3f' %\n",
        "                  (epoch + 1, i + 1, running_loss / 1000))\n",
        "            running_loss = 0.0\n",
        "    \n",
        "            #validation\n",
        "            correct = 0\n",
        "            total = 0\n",
        "            with torch.no_grad():\n",
        "                for data in valid_loader:\n",
        "                    images, labels = data\n",
        "                    #gpu\n",
        "                    images = images.cuda()\n",
        "                    labels = labels.cuda()\n",
        "                    outputs = resnetdeep(images)\n",
        "                    _, predicted = torch.max(outputs.data, 1)\n",
        "                    total += labels.size(0)\n",
        "                    correct += (predicted == labels).sum().item()\n",
        "\n",
        "            print('Accuracy of the network on the validation set: %d %%' % (\n",
        "                100 * correct / total))\n",
        "\n",
        "\n",
        "\n",
        "print('Finished Training')"
      ],
      "execution_count": null,
      "outputs": [
        {
          "output_type": "stream",
          "text": [
            "[1,  1000] loss: 2.180\n",
            "Accuracy of the network on the validation set: 33 %\n",
            "[2,  1000] loss: 2.083\n",
            "Accuracy of the network on the validation set: 39 %\n",
            "[3,  1000] loss: 2.051\n",
            "Accuracy of the network on the validation set: 40 %\n",
            "[4,  1000] loss: 2.015\n",
            "Accuracy of the network on the validation set: 46 %\n",
            "[5,  1000] loss: 1.977\n",
            "Accuracy of the network on the validation set: 47 %\n",
            "[6,  1000] loss: 1.959\n",
            "Accuracy of the network on the validation set: 50 %\n",
            "[7,  1000] loss: 1.942\n",
            "Accuracy of the network on the validation set: 50 %\n",
            "[8,  1000] loss: 1.930\n",
            "Accuracy of the network on the validation set: 52 %\n",
            "[9,  1000] loss: 1.920\n",
            "Accuracy of the network on the validation set: 52 %\n",
            "[10,  1000] loss: 1.909\n",
            "Accuracy of the network on the validation set: 53 %\n",
            "[11,  1000] loss: 1.897\n",
            "Accuracy of the network on the validation set: 53 %\n",
            "[12,  1000] loss: 1.886\n",
            "Accuracy of the network on the validation set: 53 %\n",
            "[13,  1000] loss: 1.876\n",
            "Accuracy of the network on the validation set: 55 %\n",
            "[14,  1000] loss: 1.872\n",
            "Accuracy of the network on the validation set: 56 %\n",
            "[15,  1000] loss: 1.857\n",
            "Accuracy of the network on the validation set: 58 %\n",
            "[16,  1000] loss: 1.843\n",
            "Accuracy of the network on the validation set: 58 %\n",
            "[17,  1000] loss: 1.836\n",
            "Accuracy of the network on the validation set: 59 %\n",
            "[18,  1000] loss: 1.835\n",
            "Accuracy of the network on the validation set: 59 %\n",
            "[19,  1000] loss: 1.820\n",
            "Accuracy of the network on the validation set: 60 %\n",
            "[20,  1000] loss: 1.809\n",
            "Accuracy of the network on the validation set: 61 %\n",
            "[21,  1000] loss: 1.805\n",
            "Accuracy of the network on the validation set: 60 %\n",
            "[22,  1000] loss: 1.792\n",
            "Accuracy of the network on the validation set: 60 %\n",
            "[23,  1000] loss: 1.792\n",
            "Accuracy of the network on the validation set: 62 %\n",
            "[24,  1000] loss: 1.772\n",
            "Accuracy of the network on the validation set: 62 %\n",
            "[25,  1000] loss: 1.769\n",
            "Accuracy of the network on the validation set: 63 %\n",
            "[26,  1000] loss: 1.758\n",
            "Accuracy of the network on the validation set: 63 %\n",
            "[27,  1000] loss: 1.750\n",
            "Accuracy of the network on the validation set: 63 %\n",
            "[28,  1000] loss: 1.739\n",
            "Accuracy of the network on the validation set: 65 %\n",
            "[29,  1000] loss: 1.728\n",
            "Accuracy of the network on the validation set: 66 %\n",
            "[30,  1000] loss: 1.725\n",
            "Accuracy of the network on the validation set: 66 %\n",
            "Finished Training\n"
          ],
          "name": "stdout"
        }
      ]
    },
    {
      "cell_type": "code",
      "metadata": {
        "id": "OXiSwYoQSNNy",
        "colab_type": "code",
        "colab": {
          "base_uri": "https://localhost:8080/",
          "height": 34
        },
        "outputId": "0273e1b2-4629-4e1f-c4e8-0c84b606f417"
      },
      "source": [
        "#test accuracy\n",
        "correct = 0\n",
        "total = 0\n",
        "with torch.no_grad():\n",
        "    for data in testloader:\n",
        "        images, labels = data\n",
        "        #gpu\n",
        "        images = images.cuda()\n",
        "        labels = labels.cuda()\n",
        "        outputs = resnetdeep(images)\n",
        "        _, predicted = torch.max(outputs.data, 1)\n",
        "        total += labels.size(0)\n",
        "        correct += (predicted == labels).sum().item()\n",
        "\n",
        "print('Accuracy of the network on the 10000 test images: %d %%' % (\n",
        "    100 * correct / total))"
      ],
      "execution_count": null,
      "outputs": [
        {
          "output_type": "stream",
          "text": [
            "Accuracy of the network on the 10000 test images: 58 %\n"
          ],
          "name": "stdout"
        }
      ]
    },
    {
      "cell_type": "code",
      "metadata": {
        "id": "DnXKmE2qbjk9",
        "colab_type": "code",
        "colab": {}
      },
      "source": [
        "it = iter(testloader)"
      ],
      "execution_count": null,
      "outputs": []
    },
    {
      "cell_type": "code",
      "metadata": {
        "id": "mWRY0juOZ-sk",
        "colab_type": "code",
        "colab": {
          "base_uri": "https://localhost:8080/",
          "height": 340
        },
        "outputId": "80b6bb03-ffb1-406c-b2cd-08b190ad294d"
      },
      "source": [
        "img, label = it.next()\n",
        "img = img.cuda()\n",
        "out = resnet(img)\n",
        "predict(img, 10, 2)"
      ],
      "execution_count": null,
      "outputs": [
        {
          "output_type": "display_data",
          "data": {
            "image/png": "[encoded data removed]",
            "text/plain": [
              "<Figure size 432x288 with 1 Axes>"
            ]
          },
          "metadata": {
            "tags": [],
            "needs_background": "light"
          }
        },
        {
          "output_type": "stream",
          "text": [
            "Image 0\n",
            "dog: 0.5855405330657959\n",
            "deer: 0.3394276201725006\n",
            "Image 1\n",
            "car: 0.9999997615814209\n",
            "truck: 2.1719165488320868e-07\n",
            "Image 2\n",
            "plane: 0.9999996423721313\n",
            "ship: 3.49733340954117e-07\n",
            "Image 3\n",
            "truck: 0.9999971389770508\n",
            "horse: 2.8546276098495582e-06\n"
          ],
          "name": "stdout"
        }
      ]
    },
    {
      "cell_type": "code",
      "metadata": {
        "id": "XHWVCPAZayCk",
        "colab_type": "code",
        "colab": {}
      },
      "source": [
        "path = F\"/content/gdrive/My Drive/iir_training_python/resnet50.pt\""
      ],
      "execution_count": null,
      "outputs": []
    },
    {
      "cell_type": "code",
      "metadata": {
        "id": "dl8Xqa1Vb4W6",
        "colab_type": "code",
        "colab": {
          "base_uri": "https://localhost:8080/",
          "height": 104
        },
        "outputId": "8f8c49d0-a2ff-453d-951d-76baffc6cc62"
      },
      "source": [
        "torch.save(resnetdeep.state_dict, path)"
      ],
      "execution_count": null,
      "outputs": [
        {
          "output_type": "stream",
          "text": [
            "/usr/local/lib/python3.6/dist-packages/torch/serialization.py:402: UserWarning: Couldn't retrieve source code for container of type ResNetDeep. It won't be checked for correctness upon loading.\n",
            "  \"type \" + obj.__name__ + \". It won't be checked \"\n",
            "/usr/local/lib/python3.6/dist-packages/torch/serialization.py:402: UserWarning: Couldn't retrieve source code for container of type ResidualBlockBottleneck. It won't be checked for correctness upon loading.\n",
            "  \"type \" + obj.__name__ + \". It won't be checked \"\n"
          ],
          "name": "stderr"
        }
      ]
    },
    {
      "cell_type": "markdown",
      "metadata": {
        "id": "3wFtF2W7cZYv",
        "colab_type": "text"
      },
      "source": [
        "Resnet 101"
      ]
    },
    {
      "cell_type": "code",
      "metadata": {
        "id": "nm_RX1byb_Xk",
        "colab_type": "code",
        "colab": {
          "base_uri": "https://localhost:8080/",
          "height": 1000
        },
        "outputId": "710cad89-e125-4d75-d3e1-6913e4610f71"
      },
      "source": [
        "resnetdeep = ResNetDeep(10,[3,4,23,3]).cuda()\n",
        "summary(resnetdeep, (3,32,32), device='cuda')"
      ],
      "execution_count": null,
      "outputs": [
        {
          "output_type": "stream",
          "text": [
            "----------------------------------------------------------------\n",
            "        Layer (type)               Output Shape         Param #\n",
            "================================================================\n",
            "            Conv2d-1           [-1, 64, 16, 16]           9,472\n",
            "       BatchNorm2d-2           [-1, 64, 16, 16]             128\n",
            "         MaxPool2d-3             [-1, 64, 8, 8]               0\n",
            "            Conv2d-4             [-1, 64, 8, 8]           4,160\n",
            "       BatchNorm2d-5             [-1, 64, 8, 8]             128\n",
            "              ReLU-6             [-1, 64, 8, 8]               0\n",
            "            Conv2d-7             [-1, 64, 8, 8]          36,928\n",
            "       BatchNorm2d-8             [-1, 64, 8, 8]             128\n",
            "              ReLU-9             [-1, 64, 8, 8]               0\n",
            "           Conv2d-10            [-1, 256, 8, 8]          16,640\n",
            "      BatchNorm2d-11            [-1, 256, 8, 8]             512\n",
            "             ReLU-12            [-1, 256, 8, 8]               0\n",
            "           Conv2d-13            [-1, 256, 8, 8]          16,640\n",
            "             ReLU-14            [-1, 256, 8, 8]               0\n",
            "ResidualBlockBottleneck-15            [-1, 256, 8, 8]               0\n",
            "           Conv2d-16             [-1, 64, 8, 8]          16,448\n",
            "      BatchNorm2d-17             [-1, 64, 8, 8]             128\n",
            "             ReLU-18             [-1, 64, 8, 8]               0\n",
            "           Conv2d-19             [-1, 64, 8, 8]          36,928\n",
            "      BatchNorm2d-20             [-1, 64, 8, 8]             128\n",
            "             ReLU-21             [-1, 64, 8, 8]               0\n",
            "           Conv2d-22            [-1, 256, 8, 8]          16,640\n",
            "      BatchNorm2d-23            [-1, 256, 8, 8]             512\n",
            "             ReLU-24            [-1, 256, 8, 8]               0\n",
            "             ReLU-25            [-1, 256, 8, 8]               0\n",
            "ResidualBlockBottleneck-26            [-1, 256, 8, 8]               0\n",
            "           Conv2d-27             [-1, 64, 8, 8]          16,448\n",
            "      BatchNorm2d-28             [-1, 64, 8, 8]             128\n",
            "             ReLU-29             [-1, 64, 8, 8]               0\n",
            "           Conv2d-30             [-1, 64, 8, 8]          36,928\n",
            "      BatchNorm2d-31             [-1, 64, 8, 8]             128\n",
            "             ReLU-32             [-1, 64, 8, 8]               0\n",
            "           Conv2d-33            [-1, 256, 8, 8]          16,640\n",
            "      BatchNorm2d-34            [-1, 256, 8, 8]             512\n",
            "             ReLU-35            [-1, 256, 8, 8]               0\n",
            "             ReLU-36            [-1, 256, 8, 8]               0\n",
            "ResidualBlockBottleneck-37            [-1, 256, 8, 8]               0\n",
            "           Conv2d-38            [-1, 128, 4, 4]          32,896\n",
            "      BatchNorm2d-39            [-1, 128, 4, 4]             256\n",
            "             ReLU-40            [-1, 128, 4, 4]               0\n",
            "           Conv2d-41            [-1, 128, 4, 4]         147,584\n",
            "      BatchNorm2d-42            [-1, 128, 4, 4]             256\n",
            "             ReLU-43            [-1, 128, 4, 4]               0\n",
            "           Conv2d-44            [-1, 512, 4, 4]          66,048\n",
            "      BatchNorm2d-45            [-1, 512, 4, 4]           1,024\n",
            "             ReLU-46            [-1, 512, 4, 4]               0\n",
            "           Conv2d-47            [-1, 512, 4, 4]         131,584\n",
            "             ReLU-48            [-1, 512, 4, 4]               0\n",
            "ResidualBlockBottleneck-49            [-1, 512, 4, 4]               0\n",
            "           Conv2d-50            [-1, 128, 4, 4]          65,664\n",
            "      BatchNorm2d-51            [-1, 128, 4, 4]             256\n",
            "             ReLU-52            [-1, 128, 4, 4]               0\n",
            "           Conv2d-53            [-1, 128, 4, 4]         147,584\n",
            "      BatchNorm2d-54            [-1, 128, 4, 4]             256\n",
            "             ReLU-55            [-1, 128, 4, 4]               0\n",
            "           Conv2d-56            [-1, 512, 4, 4]          66,048\n",
            "      BatchNorm2d-57            [-1, 512, 4, 4]           1,024\n",
            "             ReLU-58            [-1, 512, 4, 4]               0\n",
            "             ReLU-59            [-1, 512, 4, 4]               0\n",
            "ResidualBlockBottleneck-60            [-1, 512, 4, 4]               0\n",
            "           Conv2d-61            [-1, 128, 4, 4]          65,664\n",
            "      BatchNorm2d-62            [-1, 128, 4, 4]             256\n",
            "             ReLU-63            [-1, 128, 4, 4]               0\n",
            "           Conv2d-64            [-1, 128, 4, 4]         147,584\n",
            "      BatchNorm2d-65            [-1, 128, 4, 4]             256\n",
            "             ReLU-66            [-1, 128, 4, 4]               0\n",
            "           Conv2d-67            [-1, 512, 4, 4]          66,048\n",
            "      BatchNorm2d-68            [-1, 512, 4, 4]           1,024\n",
            "             ReLU-69            [-1, 512, 4, 4]               0\n",
            "             ReLU-70            [-1, 512, 4, 4]               0\n",
            "ResidualBlockBottleneck-71            [-1, 512, 4, 4]               0\n",
            "           Conv2d-72            [-1, 128, 4, 4]          65,664\n",
            "      BatchNorm2d-73            [-1, 128, 4, 4]             256\n",
            "             ReLU-74            [-1, 128, 4, 4]               0\n",
            "           Conv2d-75            [-1, 128, 4, 4]         147,584\n",
            "      BatchNorm2d-76            [-1, 128, 4, 4]             256\n",
            "             ReLU-77            [-1, 128, 4, 4]               0\n",
            "           Conv2d-78            [-1, 512, 4, 4]          66,048\n",
            "      BatchNorm2d-79            [-1, 512, 4, 4]           1,024\n",
            "             ReLU-80            [-1, 512, 4, 4]               0\n",
            "             ReLU-81            [-1, 512, 4, 4]               0\n",
            "ResidualBlockBottleneck-82            [-1, 512, 4, 4]               0\n",
            "           Conv2d-83            [-1, 256, 2, 2]         131,328\n",
            "      BatchNorm2d-84            [-1, 256, 2, 2]             512\n",
            "             ReLU-85            [-1, 256, 2, 2]               0\n",
            "           Conv2d-86            [-1, 256, 2, 2]         590,080\n",
            "      BatchNorm2d-87            [-1, 256, 2, 2]             512\n",
            "             ReLU-88            [-1, 256, 2, 2]               0\n",
            "           Conv2d-89           [-1, 1024, 2, 2]         263,168\n",
            "      BatchNorm2d-90           [-1, 1024, 2, 2]           2,048\n",
            "             ReLU-91           [-1, 1024, 2, 2]               0\n",
            "           Conv2d-92           [-1, 1024, 2, 2]         525,312\n",
            "             ReLU-93           [-1, 1024, 2, 2]               0\n",
            "ResidualBlockBottleneck-94           [-1, 1024, 2, 2]               0\n",
            "           Conv2d-95            [-1, 256, 2, 2]         262,400\n",
            "      BatchNorm2d-96            [-1, 256, 2, 2]             512\n",
            "             ReLU-97            [-1, 256, 2, 2]               0\n",
            "           Conv2d-98            [-1, 256, 2, 2]         590,080\n",
            "      BatchNorm2d-99            [-1, 256, 2, 2]             512\n",
            "            ReLU-100            [-1, 256, 2, 2]               0\n",
            "          Conv2d-101           [-1, 1024, 2, 2]         263,168\n",
            "     BatchNorm2d-102           [-1, 1024, 2, 2]           2,048\n",
            "            ReLU-103           [-1, 1024, 2, 2]               0\n",
            "            ReLU-104           [-1, 1024, 2, 2]               0\n",
            "ResidualBlockBottleneck-105           [-1, 1024, 2, 2]               0\n",
            "          Conv2d-106            [-1, 256, 2, 2]         262,400\n",
            "     BatchNorm2d-107            [-1, 256, 2, 2]             512\n",
            "            ReLU-108            [-1, 256, 2, 2]               0\n",
            "          Conv2d-109            [-1, 256, 2, 2]         590,080\n",
            "     BatchNorm2d-110            [-1, 256, 2, 2]             512\n",
            "            ReLU-111            [-1, 256, 2, 2]               0\n",
            "          Conv2d-112           [-1, 1024, 2, 2]         263,168\n",
            "     BatchNorm2d-113           [-1, 1024, 2, 2]           2,048\n",
            "            ReLU-114           [-1, 1024, 2, 2]               0\n",
            "            ReLU-115           [-1, 1024, 2, 2]               0\n",
            "ResidualBlockBottleneck-116           [-1, 1024, 2, 2]               0\n",
            "          Conv2d-117            [-1, 256, 2, 2]         262,400\n",
            "     BatchNorm2d-118            [-1, 256, 2, 2]             512\n",
            "            ReLU-119            [-1, 256, 2, 2]               0\n",
            "          Conv2d-120            [-1, 256, 2, 2]         590,080\n",
            "     BatchNorm2d-121            [-1, 256, 2, 2]             512\n",
            "            ReLU-122            [-1, 256, 2, 2]               0\n",
            "          Conv2d-123           [-1, 1024, 2, 2]         263,168\n",
            "     BatchNorm2d-124           [-1, 1024, 2, 2]           2,048\n",
            "            ReLU-125           [-1, 1024, 2, 2]               0\n",
            "            ReLU-126           [-1, 1024, 2, 2]               0\n",
            "ResidualBlockBottleneck-127           [-1, 1024, 2, 2]               0\n",
            "          Conv2d-128            [-1, 256, 2, 2]         262,400\n",
            "     BatchNorm2d-129            [-1, 256, 2, 2]             512\n",
            "            ReLU-130            [-1, 256, 2, 2]               0\n",
            "          Conv2d-131            [-1, 256, 2, 2]         590,080\n",
            "     BatchNorm2d-132            [-1, 256, 2, 2]             512\n",
            "            ReLU-133            [-1, 256, 2, 2]               0\n",
            "          Conv2d-134           [-1, 1024, 2, 2]         263,168\n",
            "     BatchNorm2d-135           [-1, 1024, 2, 2]           2,048\n",
            "            ReLU-136           [-1, 1024, 2, 2]               0\n",
            "            ReLU-137           [-1, 1024, 2, 2]               0\n",
            "ResidualBlockBottleneck-138           [-1, 1024, 2, 2]               0\n",
            "          Conv2d-139            [-1, 256, 2, 2]         262,400\n",
            "     BatchNorm2d-140            [-1, 256, 2, 2]             512\n",
            "            ReLU-141            [-1, 256, 2, 2]               0\n",
            "          Conv2d-142            [-1, 256, 2, 2]         590,080\n",
            "     BatchNorm2d-143            [-1, 256, 2, 2]             512\n",
            "            ReLU-144            [-1, 256, 2, 2]               0\n",
            "          Conv2d-145           [-1, 1024, 2, 2]         263,168\n",
            "     BatchNorm2d-146           [-1, 1024, 2, 2]           2,048\n",
            "            ReLU-147           [-1, 1024, 2, 2]               0\n",
            "            ReLU-148           [-1, 1024, 2, 2]               0\n",
            "ResidualBlockBottleneck-149           [-1, 1024, 2, 2]               0\n",
            "          Conv2d-150            [-1, 256, 2, 2]         262,400\n",
            "     BatchNorm2d-151            [-1, 256, 2, 2]             512\n",
            "            ReLU-152            [-1, 256, 2, 2]               0\n",
            "          Conv2d-153            [-1, 256, 2, 2]         590,080\n",
            "     BatchNorm2d-154            [-1, 256, 2, 2]             512\n",
            "            ReLU-155            [-1, 256, 2, 2]               0\n",
            "          Conv2d-156           [-1, 1024, 2, 2]         263,168\n",
            "     BatchNorm2d-157           [-1, 1024, 2, 2]           2,048\n",
            "            ReLU-158           [-1, 1024, 2, 2]               0\n",
            "            ReLU-159           [-1, 1024, 2, 2]               0\n",
            "ResidualBlockBottleneck-160           [-1, 1024, 2, 2]               0\n",
            "          Conv2d-161            [-1, 256, 2, 2]         262,400\n",
            "     BatchNorm2d-162            [-1, 256, 2, 2]             512\n",
            "            ReLU-163            [-1, 256, 2, 2]               0\n",
            "          Conv2d-164            [-1, 256, 2, 2]         590,080\n",
            "     BatchNorm2d-165            [-1, 256, 2, 2]             512\n",
            "            ReLU-166            [-1, 256, 2, 2]               0\n",
            "          Conv2d-167           [-1, 1024, 2, 2]         263,168\n",
            "     BatchNorm2d-168           [-1, 1024, 2, 2]           2,048\n",
            "            ReLU-169           [-1, 1024, 2, 2]               0\n",
            "            ReLU-170           [-1, 1024, 2, 2]               0\n",
            "ResidualBlockBottleneck-171           [-1, 1024, 2, 2]               0\n",
            "          Conv2d-172            [-1, 256, 2, 2]         262,400\n",
            "     BatchNorm2d-173            [-1, 256, 2, 2]             512\n",
            "            ReLU-174            [-1, 256, 2, 2]               0\n",
            "          Conv2d-175            [-1, 256, 2, 2]         590,080\n",
            "     BatchNorm2d-176            [-1, 256, 2, 2]             512\n",
            "            ReLU-177            [-1, 256, 2, 2]               0\n",
            "          Conv2d-178           [-1, 1024, 2, 2]         263,168\n",
            "     BatchNorm2d-179           [-1, 1024, 2, 2]           2,048\n",
            "            ReLU-180           [-1, 1024, 2, 2]               0\n",
            "            ReLU-181           [-1, 1024, 2, 2]               0\n",
            "ResidualBlockBottleneck-182           [-1, 1024, 2, 2]               0\n",
            "          Conv2d-183            [-1, 256, 2, 2]         262,400\n",
            "     BatchNorm2d-184            [-1, 256, 2, 2]             512\n",
            "            ReLU-185            [-1, 256, 2, 2]               0\n",
            "          Conv2d-186            [-1, 256, 2, 2]         590,080\n",
            "     BatchNorm2d-187            [-1, 256, 2, 2]             512\n",
            "            ReLU-188            [-1, 256, 2, 2]               0\n",
            "          Conv2d-189           [-1, 1024, 2, 2]         263,168\n",
            "     BatchNorm2d-190           [-1, 1024, 2, 2]           2,048\n",
            "            ReLU-191           [-1, 1024, 2, 2]               0\n",
            "            ReLU-192           [-1, 1024, 2, 2]               0\n",
            "ResidualBlockBottleneck-193           [-1, 1024, 2, 2]               0\n",
            "          Conv2d-194            [-1, 256, 2, 2]         262,400\n",
            "     BatchNorm2d-195            [-1, 256, 2, 2]             512\n",
            "            ReLU-196            [-1, 256, 2, 2]               0\n",
            "          Conv2d-197            [-1, 256, 2, 2]         590,080\n",
            "     BatchNorm2d-198            [-1, 256, 2, 2]             512\n",
            "            ReLU-199            [-1, 256, 2, 2]               0\n",
            "          Conv2d-200           [-1, 1024, 2, 2]         263,168\n",
            "     BatchNorm2d-201           [-1, 1024, 2, 2]           2,048\n",
            "            ReLU-202           [-1, 1024, 2, 2]               0\n",
            "            ReLU-203           [-1, 1024, 2, 2]               0\n",
            "ResidualBlockBottleneck-204           [-1, 1024, 2, 2]               0\n",
            "          Conv2d-205            [-1, 256, 2, 2]         262,400\n",
            "     BatchNorm2d-206            [-1, 256, 2, 2]             512\n",
            "            ReLU-207            [-1, 256, 2, 2]               0\n",
            "          Conv2d-208            [-1, 256, 2, 2]         590,080\n",
            "     BatchNorm2d-209            [-1, 256, 2, 2]             512\n",
            "            ReLU-210            [-1, 256, 2, 2]               0\n",
            "          Conv2d-211           [-1, 1024, 2, 2]         263,168\n",
            "     BatchNorm2d-212           [-1, 1024, 2, 2]           2,048\n",
            "            ReLU-213           [-1, 1024, 2, 2]               0\n",
            "            ReLU-214           [-1, 1024, 2, 2]               0\n",
            "ResidualBlockBottleneck-215           [-1, 1024, 2, 2]               0\n",
            "          Conv2d-216            [-1, 256, 2, 2]         262,400\n",
            "     BatchNorm2d-217            [-1, 256, 2, 2]             512\n",
            "            ReLU-218            [-1, 256, 2, 2]               0\n",
            "          Conv2d-219            [-1, 256, 2, 2]         590,080\n",
            "     BatchNorm2d-220            [-1, 256, 2, 2]             512\n",
            "            ReLU-221            [-1, 256, 2, 2]               0\n",
            "          Conv2d-222           [-1, 1024, 2, 2]         263,168\n",
            "     BatchNorm2d-223           [-1, 1024, 2, 2]           2,048\n",
            "            ReLU-224           [-1, 1024, 2, 2]               0\n",
            "            ReLU-225           [-1, 1024, 2, 2]               0\n",
            "ResidualBlockBottleneck-226           [-1, 1024, 2, 2]               0\n",
            "          Conv2d-227            [-1, 256, 2, 2]         262,400\n",
            "     BatchNorm2d-228            [-1, 256, 2, 2]             512\n",
            "            ReLU-229            [-1, 256, 2, 2]               0\n",
            "          Conv2d-230            [-1, 256, 2, 2]         590,080\n",
            "     BatchNorm2d-231            [-1, 256, 2, 2]             512\n",
            "            ReLU-232            [-1, 256, 2, 2]               0\n",
            "          Conv2d-233           [-1, 1024, 2, 2]         263,168\n",
            "     BatchNorm2d-234           [-1, 1024, 2, 2]           2,048\n",
            "            ReLU-235           [-1, 1024, 2, 2]               0\n",
            "            ReLU-236           [-1, 1024, 2, 2]               0\n",
            "ResidualBlockBottleneck-237           [-1, 1024, 2, 2]               0\n",
            "          Conv2d-238            [-1, 256, 2, 2]         262,400\n",
            "     BatchNorm2d-239            [-1, 256, 2, 2]             512\n",
            "            ReLU-240            [-1, 256, 2, 2]               0\n",
            "          Conv2d-241            [-1, 256, 2, 2]         590,080\n",
            "     BatchNorm2d-242            [-1, 256, 2, 2]             512\n",
            "            ReLU-243            [-1, 256, 2, 2]               0\n",
            "          Conv2d-244           [-1, 1024, 2, 2]         263,168\n",
            "     BatchNorm2d-245           [-1, 1024, 2, 2]           2,048\n",
            "            ReLU-246           [-1, 1024, 2, 2]               0\n",
            "            ReLU-247           [-1, 1024, 2, 2]               0\n",
            "ResidualBlockBottleneck-248           [-1, 1024, 2, 2]               0\n",
            "          Conv2d-249            [-1, 256, 2, 2]         262,400\n",
            "     BatchNorm2d-250            [-1, 256, 2, 2]             512\n",
            "            ReLU-251            [-1, 256, 2, 2]               0\n",
            "          Conv2d-252            [-1, 256, 2, 2]         590,080\n",
            "     BatchNorm2d-253            [-1, 256, 2, 2]             512\n",
            "            ReLU-254            [-1, 256, 2, 2]               0\n",
            "          Conv2d-255           [-1, 1024, 2, 2]         263,168\n",
            "     BatchNorm2d-256           [-1, 1024, 2, 2]           2,048\n",
            "            ReLU-257           [-1, 1024, 2, 2]               0\n",
            "            ReLU-258           [-1, 1024, 2, 2]               0\n",
            "ResidualBlockBottleneck-259           [-1, 1024, 2, 2]               0\n",
            "          Conv2d-260            [-1, 256, 2, 2]         262,400\n",
            "     BatchNorm2d-261            [-1, 256, 2, 2]             512\n",
            "            ReLU-262            [-1, 256, 2, 2]               0\n",
            "          Conv2d-263            [-1, 256, 2, 2]         590,080\n",
            "     BatchNorm2d-264            [-1, 256, 2, 2]             512\n",
            "            ReLU-265            [-1, 256, 2, 2]               0\n",
            "          Conv2d-266           [-1, 1024, 2, 2]         263,168\n",
            "     BatchNorm2d-267           [-1, 1024, 2, 2]           2,048\n",
            "            ReLU-268           [-1, 1024, 2, 2]               0\n",
            "            ReLU-269           [-1, 1024, 2, 2]               0\n",
            "ResidualBlockBottleneck-270           [-1, 1024, 2, 2]               0\n",
            "          Conv2d-271            [-1, 256, 2, 2]         262,400\n",
            "     BatchNorm2d-272            [-1, 256, 2, 2]             512\n",
            "            ReLU-273            [-1, 256, 2, 2]               0\n",
            "          Conv2d-274            [-1, 256, 2, 2]         590,080\n",
            "     BatchNorm2d-275            [-1, 256, 2, 2]             512\n",
            "            ReLU-276            [-1, 256, 2, 2]               0\n",
            "          Conv2d-277           [-1, 1024, 2, 2]         263,168\n",
            "     BatchNorm2d-278           [-1, 1024, 2, 2]           2,048\n",
            "            ReLU-279           [-1, 1024, 2, 2]               0\n",
            "            ReLU-280           [-1, 1024, 2, 2]               0\n",
            "ResidualBlockBottleneck-281           [-1, 1024, 2, 2]               0\n",
            "          Conv2d-282            [-1, 256, 2, 2]         262,400\n",
            "     BatchNorm2d-283            [-1, 256, 2, 2]             512\n",
            "            ReLU-284            [-1, 256, 2, 2]               0\n",
            "          Conv2d-285            [-1, 256, 2, 2]         590,080\n",
            "     BatchNorm2d-286            [-1, 256, 2, 2]             512\n",
            "            ReLU-287            [-1, 256, 2, 2]               0\n",
            "          Conv2d-288           [-1, 1024, 2, 2]         263,168\n",
            "     BatchNorm2d-289           [-1, 1024, 2, 2]           2,048\n",
            "            ReLU-290           [-1, 1024, 2, 2]               0\n",
            "            ReLU-291           [-1, 1024, 2, 2]               0\n",
            "ResidualBlockBottleneck-292           [-1, 1024, 2, 2]               0\n",
            "          Conv2d-293            [-1, 256, 2, 2]         262,400\n",
            "     BatchNorm2d-294            [-1, 256, 2, 2]             512\n",
            "            ReLU-295            [-1, 256, 2, 2]               0\n",
            "          Conv2d-296            [-1, 256, 2, 2]         590,080\n",
            "     BatchNorm2d-297            [-1, 256, 2, 2]             512\n",
            "            ReLU-298            [-1, 256, 2, 2]               0\n",
            "          Conv2d-299           [-1, 1024, 2, 2]         263,168\n",
            "     BatchNorm2d-300           [-1, 1024, 2, 2]           2,048\n",
            "            ReLU-301           [-1, 1024, 2, 2]               0\n",
            "            ReLU-302           [-1, 1024, 2, 2]               0\n",
            "ResidualBlockBottleneck-303           [-1, 1024, 2, 2]               0\n",
            "          Conv2d-304            [-1, 256, 2, 2]         262,400\n",
            "     BatchNorm2d-305            [-1, 256, 2, 2]             512\n",
            "            ReLU-306            [-1, 256, 2, 2]               0\n",
            "          Conv2d-307            [-1, 256, 2, 2]         590,080\n",
            "     BatchNorm2d-308            [-1, 256, 2, 2]             512\n",
            "            ReLU-309            [-1, 256, 2, 2]               0\n",
            "          Conv2d-310           [-1, 1024, 2, 2]         263,168\n",
            "     BatchNorm2d-311           [-1, 1024, 2, 2]           2,048\n",
            "            ReLU-312           [-1, 1024, 2, 2]               0\n",
            "            ReLU-313           [-1, 1024, 2, 2]               0\n",
            "ResidualBlockBottleneck-314           [-1, 1024, 2, 2]               0\n",
            "          Conv2d-315            [-1, 256, 2, 2]         262,400\n",
            "     BatchNorm2d-316            [-1, 256, 2, 2]             512\n",
            "            ReLU-317            [-1, 256, 2, 2]               0\n",
            "          Conv2d-318            [-1, 256, 2, 2]         590,080\n",
            "     BatchNorm2d-319            [-1, 256, 2, 2]             512\n",
            "            ReLU-320            [-1, 256, 2, 2]               0\n",
            "          Conv2d-321           [-1, 1024, 2, 2]         263,168\n",
            "     BatchNorm2d-322           [-1, 1024, 2, 2]           2,048\n",
            "            ReLU-323           [-1, 1024, 2, 2]               0\n",
            "            ReLU-324           [-1, 1024, 2, 2]               0\n",
            "ResidualBlockBottleneck-325           [-1, 1024, 2, 2]               0\n",
            "          Conv2d-326            [-1, 256, 2, 2]         262,400\n",
            "     BatchNorm2d-327            [-1, 256, 2, 2]             512\n",
            "            ReLU-328            [-1, 256, 2, 2]               0\n",
            "          Conv2d-329            [-1, 256, 2, 2]         590,080\n",
            "     BatchNorm2d-330            [-1, 256, 2, 2]             512\n",
            "            ReLU-331            [-1, 256, 2, 2]               0\n",
            "          Conv2d-332           [-1, 1024, 2, 2]         263,168\n",
            "     BatchNorm2d-333           [-1, 1024, 2, 2]           2,048\n",
            "            ReLU-334           [-1, 1024, 2, 2]               0\n",
            "            ReLU-335           [-1, 1024, 2, 2]               0\n",
            "ResidualBlockBottleneck-336           [-1, 1024, 2, 2]               0\n",
            "          Conv2d-337            [-1, 512, 1, 1]         524,800\n",
            "     BatchNorm2d-338            [-1, 512, 1, 1]           1,024\n",
            "            ReLU-339            [-1, 512, 1, 1]               0\n",
            "          Conv2d-340            [-1, 512, 1, 1]       2,359,808\n",
            "     BatchNorm2d-341            [-1, 512, 1, 1]           1,024\n",
            "            ReLU-342            [-1, 512, 1, 1]               0\n",
            "          Conv2d-343           [-1, 2048, 1, 1]       1,050,624\n",
            "     BatchNorm2d-344           [-1, 2048, 1, 1]           4,096\n",
            "            ReLU-345           [-1, 2048, 1, 1]               0\n",
            "          Conv2d-346           [-1, 2048, 1, 1]       2,099,200\n",
            "            ReLU-347           [-1, 2048, 1, 1]               0\n",
            "ResidualBlockBottleneck-348           [-1, 2048, 1, 1]               0\n",
            "          Conv2d-349            [-1, 512, 1, 1]       1,049,088\n",
            "     BatchNorm2d-350            [-1, 512, 1, 1]           1,024\n",
            "            ReLU-351            [-1, 512, 1, 1]               0\n",
            "          Conv2d-352            [-1, 512, 1, 1]       2,359,808\n",
            "     BatchNorm2d-353            [-1, 512, 1, 1]           1,024\n",
            "            ReLU-354            [-1, 512, 1, 1]               0\n",
            "          Conv2d-355           [-1, 2048, 1, 1]       1,050,624\n",
            "     BatchNorm2d-356           [-1, 2048, 1, 1]           4,096\n",
            "            ReLU-357           [-1, 2048, 1, 1]               0\n",
            "            ReLU-358           [-1, 2048, 1, 1]               0\n",
            "ResidualBlockBottleneck-359           [-1, 2048, 1, 1]               0\n",
            "          Conv2d-360            [-1, 512, 1, 1]       1,049,088\n",
            "     BatchNorm2d-361            [-1, 512, 1, 1]           1,024\n",
            "            ReLU-362            [-1, 512, 1, 1]               0\n",
            "          Conv2d-363            [-1, 512, 1, 1]       2,359,808\n",
            "     BatchNorm2d-364            [-1, 512, 1, 1]           1,024\n",
            "            ReLU-365            [-1, 512, 1, 1]               0\n",
            "          Conv2d-366           [-1, 2048, 1, 1]       1,050,624\n",
            "     BatchNorm2d-367           [-1, 2048, 1, 1]           4,096\n",
            "            ReLU-368           [-1, 2048, 1, 1]               0\n",
            "            ReLU-369           [-1, 2048, 1, 1]               0\n",
            "ResidualBlockBottleneck-370           [-1, 2048, 1, 1]               0\n",
            "AdaptiveAvgPool2d-371           [-1, 2048, 1, 1]               0\n",
            "         Flatten-372                 [-1, 2048]               0\n",
            "          Linear-373                   [-1, 10]          20,490\n",
            "         Softmax-374                   [-1, 10]               0\n",
            "================================================================\n",
            "Total params: 42,565,642\n",
            "Trainable params: 42,565,642\n",
            "Non-trainable params: 0\n",
            "----------------------------------------------------------------\n",
            "Input size (MB): 0.01\n",
            "Forward/backward pass size (MB): 9.59\n",
            "Params size (MB): 162.38\n",
            "Estimated Total Size (MB): 171.97\n",
            "----------------------------------------------------------------\n"
          ],
          "name": "stdout"
        }
      ]
    },
    {
      "cell_type": "code",
      "metadata": {
        "id": "xhPF2w8ockhr",
        "colab_type": "code",
        "colab": {}
      },
      "source": [
        "import torch.optim as optim\n",
        "\n",
        "resnet101 = ResNetDeep(output_classes=10, numBlocks=[3,4,23,3])\n",
        "#gpu\n",
        "resnet101.cuda()\n",
        "\n",
        "criterion = nn.CrossEntropyLoss()\n",
        "optimizer = optim.SGD(resnet101.parameters(), lr=0.001, momentum=0.9)"
      ],
      "execution_count": null,
      "outputs": []
    },
    {
      "cell_type": "code",
      "metadata": {
        "id": "ZluGWXlxcxEc",
        "colab_type": "code",
        "colab": {
          "base_uri": "https://localhost:8080/",
          "height": 1000
        },
        "outputId": "7d1d06a1-abbb-41a6-da6b-de08af86dc63"
      },
      "source": [
        "for epoch in range(100):  # loop over the dataset multiple times\n",
        "    running_loss = 0.0\n",
        "    for i, data in enumerate(training_loader, 0):\n",
        "        # get the inputs; data is a list of [inputs, labels]\n",
        "        inputs, labels = data\n",
        "        #gpu\n",
        "        inputs = inputs.cuda()\n",
        "        labels = labels.cuda()\n",
        "        #print(i, end = \" \")\n",
        "\n",
        "        # zero the parameter gradients\n",
        "        optimizer.zero_grad()\n",
        "\n",
        "        # forward + backward + optimize\n",
        "        outputs = resnet101(inputs)\n",
        "        loss = criterion(outputs, labels)\n",
        "        loss.backward()\n",
        "        optimizer.step()\n",
        "\n",
        "        # print statistics\n",
        "        running_loss += loss.item()\n",
        "        if i % 1000 == 999:    # print every 1000 mini-batches\n",
        "            print('[%d, %5d] loss: %.3f' %\n",
        "                  (epoch + 1, i + 1, running_loss / 1000))\n",
        "            running_loss = 0.0\n",
        "    \n",
        "            #validation\n",
        "            correct = 0\n",
        "            total = 0\n",
        "            with torch.no_grad():\n",
        "                for data in valid_loader:\n",
        "                    images, labels = data\n",
        "                    #gpu\n",
        "                    images = images.cuda()\n",
        "                    labels = labels.cuda()\n",
        "                    outputs = resnet101(images)\n",
        "                    _, predicted = torch.max(outputs.data, 1)\n",
        "                    total += labels.size(0)\n",
        "                    correct += (predicted == labels).sum().item()\n",
        "\n",
        "            print('Accuracy of the network on the validation set: %d %%' % (\n",
        "                100 * correct / total))\n",
        "\n",
        "\n",
        "\n",
        "print('Finished Training')"
      ],
      "execution_count": null,
      "outputs": [
        {
          "output_type": "stream",
          "text": [
            "[1,  1000] loss: 2.269\n",
            "Accuracy of the network on the validation set: 20 %\n",
            "[2,  1000] loss: 2.195\n",
            "Accuracy of the network on the validation set: 27 %\n",
            "[3,  1000] loss: 2.130\n",
            "Accuracy of the network on the validation set: 34 %\n",
            "[4,  1000] loss: 2.069\n",
            "Accuracy of the network on the validation set: 39 %\n",
            "[5,  1000] loss: 2.043\n",
            "Accuracy of the network on the validation set: 41 %\n",
            "[6,  1000] loss: 2.027\n",
            "Accuracy of the network on the validation set: 43 %\n",
            "[7,  1000] loss: 2.018\n",
            "Accuracy of the network on the validation set: 43 %\n",
            "[8,  1000] loss: 2.012\n",
            "Accuracy of the network on the validation set: 45 %\n",
            "[9,  1000] loss: 1.994\n",
            "Accuracy of the network on the validation set: 45 %\n",
            "[10,  1000] loss: 1.991\n",
            "Accuracy of the network on the validation set: 45 %\n",
            "[11,  1000] loss: 1.987\n",
            "Accuracy of the network on the validation set: 47 %\n",
            "[12,  1000] loss: 1.974\n",
            "Accuracy of the network on the validation set: 48 %\n",
            "[13,  1000] loss: 1.969\n",
            "Accuracy of the network on the validation set: 48 %\n",
            "[14,  1000] loss: 1.967\n",
            "Accuracy of the network on the validation set: 47 %\n",
            "[15,  1000] loss: 1.956\n",
            "Accuracy of the network on the validation set: 50 %\n",
            "[16,  1000] loss: 1.950\n",
            "Accuracy of the network on the validation set: 49 %\n",
            "[17,  1000] loss: 1.943\n",
            "Accuracy of the network on the validation set: 50 %\n",
            "[18,  1000] loss: 1.947\n",
            "Accuracy of the network on the validation set: 49 %\n",
            "[19,  1000] loss: 1.950\n",
            "Accuracy of the network on the validation set: 47 %\n",
            "[20,  1000] loss: 1.930\n",
            "Accuracy of the network on the validation set: 52 %\n",
            "[21,  1000] loss: 1.893\n",
            "Accuracy of the network on the validation set: 55 %\n",
            "[22,  1000] loss: 1.878\n",
            "Accuracy of the network on the validation set: 55 %\n",
            "[23,  1000] loss: 1.867\n",
            "Accuracy of the network on the validation set: 55 %\n",
            "[24,  1000] loss: 1.866\n",
            "Accuracy of the network on the validation set: 57 %\n",
            "[25,  1000] loss: 1.861\n",
            "Accuracy of the network on the validation set: 56 %\n",
            "[26,  1000] loss: 1.857\n",
            "Accuracy of the network on the validation set: 56 %\n",
            "[27,  1000] loss: 1.852\n",
            "Accuracy of the network on the validation set: 58 %\n",
            "[28,  1000] loss: 1.844\n",
            "Accuracy of the network on the validation set: 57 %\n",
            "[29,  1000] loss: 1.837\n",
            "Accuracy of the network on the validation set: 57 %\n",
            "[30,  1000] loss: 1.834\n",
            "Accuracy of the network on the validation set: 57 %\n",
            "[31,  1000] loss: 1.824\n",
            "Accuracy of the network on the validation set: 58 %\n",
            "[32,  1000] loss: 1.821\n",
            "Accuracy of the network on the validation set: 61 %\n",
            "[33,  1000] loss: 1.807\n",
            "Accuracy of the network on the validation set: 62 %\n",
            "[34,  1000] loss: 1.782\n",
            "Accuracy of the network on the validation set: 62 %\n",
            "[35,  1000] loss: 1.777\n",
            "Accuracy of the network on the validation set: 61 %\n",
            "[36,  1000] loss: 1.768\n",
            "Accuracy of the network on the validation set: 63 %\n",
            "[37,  1000] loss: 1.769\n",
            "Accuracy of the network on the validation set: 63 %\n",
            "[38,  1000] loss: 1.761\n",
            "Accuracy of the network on the validation set: 63 %\n",
            "[39,  1000] loss: 1.757\n",
            "Accuracy of the network on the validation set: 64 %\n",
            "[40,  1000] loss: 1.761\n",
            "Accuracy of the network on the validation set: 63 %\n",
            "[41,  1000] loss: 1.759\n",
            "Accuracy of the network on the validation set: 63 %\n",
            "[42,  1000] loss: 1.749\n",
            "Accuracy of the network on the validation set: 65 %\n",
            "[43,  1000] loss: 1.745\n",
            "Accuracy of the network on the validation set: 66 %\n",
            "[44,  1000] loss: 1.747\n",
            "Accuracy of the network on the validation set: 64 %\n",
            "[45,  1000] loss: 1.747\n",
            "Accuracy of the network on the validation set: 65 %\n",
            "[46,  1000] loss: 1.740\n",
            "Accuracy of the network on the validation set: 66 %\n",
            "[47,  1000] loss: 1.736\n",
            "Accuracy of the network on the validation set: 65 %\n",
            "[48,  1000] loss: 1.743\n",
            "Accuracy of the network on the validation set: 64 %\n",
            "[49,  1000] loss: 1.731\n",
            "Accuracy of the network on the validation set: 66 %\n",
            "[50,  1000] loss: 1.731\n",
            "Accuracy of the network on the validation set: 66 %\n",
            "[51,  1000] loss: 1.728\n",
            "Accuracy of the network on the validation set: 66 %\n",
            "[52,  1000] loss: 1.724\n",
            "Accuracy of the network on the validation set: 65 %\n",
            "[53,  1000] loss: 1.728\n",
            "Accuracy of the network on the validation set: 66 %\n",
            "[54,  1000] loss: 1.725\n",
            "Accuracy of the network on the validation set: 66 %\n",
            "[55,  1000] loss: 1.721\n",
            "Accuracy of the network on the validation set: 67 %\n",
            "[56,  1000] loss: 1.715\n",
            "Accuracy of the network on the validation set: 66 %\n",
            "[57,  1000] loss: 1.710\n",
            "Accuracy of the network on the validation set: 66 %\n",
            "[58,  1000] loss: 1.720\n",
            "Accuracy of the network on the validation set: 67 %\n",
            "[59,  1000] loss: 1.711\n",
            "Accuracy of the network on the validation set: 66 %\n",
            "[60,  1000] loss: 1.708\n",
            "Accuracy of the network on the validation set: 66 %\n",
            "[61,  1000] loss: 1.702\n",
            "Accuracy of the network on the validation set: 67 %\n",
            "[62,  1000] loss: 1.693\n",
            "Accuracy of the network on the validation set: 67 %\n",
            "[63,  1000] loss: 1.700\n",
            "Accuracy of the network on the validation set: 67 %\n",
            "[64,  1000] loss: 1.689\n",
            "Accuracy of the network on the validation set: 67 %\n",
            "[65,  1000] loss: 1.686\n",
            "Accuracy of the network on the validation set: 68 %\n",
            "[66,  1000] loss: 1.691\n",
            "Accuracy of the network on the validation set: 68 %\n",
            "[67,  1000] loss: 1.692\n",
            "Accuracy of the network on the validation set: 67 %\n",
            "[68,  1000] loss: 1.689\n",
            "Accuracy of the network on the validation set: 67 %\n",
            "[69,  1000] loss: 1.683\n",
            "Accuracy of the network on the validation set: 68 %\n",
            "[70,  1000] loss: 1.687\n",
            "Accuracy of the network on the validation set: 68 %\n",
            "[71,  1000] loss: 1.683\n",
            "Accuracy of the network on the validation set: 68 %\n",
            "[72,  1000] loss: 1.679\n",
            "Accuracy of the network on the validation set: 67 %\n",
            "[73,  1000] loss: 1.680\n",
            "Accuracy of the network on the validation set: 67 %\n",
            "[74,  1000] loss: 1.676\n",
            "Accuracy of the network on the validation set: 69 %\n",
            "[75,  1000] loss: 1.673\n",
            "Accuracy of the network on the validation set: 69 %\n",
            "[76,  1000] loss: 1.675\n",
            "Accuracy of the network on the validation set: 69 %\n",
            "[77,  1000] loss: 1.675\n",
            "Accuracy of the network on the validation set: 68 %\n",
            "[78,  1000] loss: 1.677\n",
            "Accuracy of the network on the validation set: 68 %\n",
            "[79,  1000] loss: 1.667\n",
            "Accuracy of the network on the validation set: 69 %\n",
            "[80,  1000] loss: 1.665\n",
            "Accuracy of the network on the validation set: 69 %\n",
            "[81,  1000] loss: 1.661\n",
            "Accuracy of the network on the validation set: 69 %\n",
            "[82,  1000] loss: 1.664\n",
            "Accuracy of the network on the validation set: 69 %\n",
            "[83,  1000] loss: 1.666\n",
            "Accuracy of the network on the validation set: 70 %\n",
            "[84,  1000] loss: 1.658\n",
            "Accuracy of the network on the validation set: 69 %\n",
            "[85,  1000] loss: 1.665\n",
            "Accuracy of the network on the validation set: 67 %\n",
            "[86,  1000] loss: 1.664\n",
            "Accuracy of the network on the validation set: 70 %\n",
            "[87,  1000] loss: 1.658\n",
            "Accuracy of the network on the validation set: 70 %\n",
            "[88,  1000] loss: 1.656\n",
            "Accuracy of the network on the validation set: 68 %\n",
            "[89,  1000] loss: 1.651\n",
            "Accuracy of the network on the validation set: 69 %\n",
            "[90,  1000] loss: 1.650\n",
            "Accuracy of the network on the validation set: 70 %\n",
            "[91,  1000] loss: 1.659\n",
            "Accuracy of the network on the validation set: 69 %\n",
            "[92,  1000] loss: 1.658\n",
            "Accuracy of the network on the validation set: 69 %\n",
            "[93,  1000] loss: 1.646\n",
            "Accuracy of the network on the validation set: 70 %\n",
            "[94,  1000] loss: 1.647\n",
            "Accuracy of the network on the validation set: 70 %\n",
            "[95,  1000] loss: 1.643\n",
            "Accuracy of the network on the validation set: 70 %\n",
            "[96,  1000] loss: 1.644\n",
            "Accuracy of the network on the validation set: 70 %\n",
            "[97,  1000] loss: 1.644\n",
            "Accuracy of the network on the validation set: 69 %\n",
            "[98,  1000] loss: 1.645\n",
            "Accuracy of the network on the validation set: 69 %\n",
            "[99,  1000] loss: 1.639\n",
            "Accuracy of the network on the validation set: 69 %\n",
            "[100,  1000] loss: 1.638\n",
            "Accuracy of the network on the validation set: 70 %\n",
            "Finished Training\n"
          ],
          "name": "stdout"
        }
      ]
    },
    {
      "cell_type": "code",
      "metadata": {
        "id": "PAA5DkcTdDNH",
        "colab_type": "code",
        "colab": {}
      },
      "source": [
        "path = F\"/content/gdrive/My Drive/iir_training_python/resnet101.pt\""
      ],
      "execution_count": null,
      "outputs": []
    },
    {
      "cell_type": "code",
      "metadata": {
        "id": "ERN_W-Q_CGjf",
        "colab_type": "code",
        "colab": {
          "base_uri": "https://localhost:8080/",
          "height": 104
        },
        "outputId": "afd03878-046a-48d1-a4aa-8fd35b40a12c"
      },
      "source": [
        "torch.save(resnet101.state_dict, path)"
      ],
      "execution_count": null,
      "outputs": [
        {
          "output_type": "stream",
          "text": [
            "/usr/local/lib/python3.6/dist-packages/torch/serialization.py:402: UserWarning: Couldn't retrieve source code for container of type ResNetDeep. It won't be checked for correctness upon loading.\n",
            "  \"type \" + obj.__name__ + \". It won't be checked \"\n",
            "/usr/local/lib/python3.6/dist-packages/torch/serialization.py:402: UserWarning: Couldn't retrieve source code for container of type ResidualBlockBottleneck. It won't be checked for correctness upon loading.\n",
            "  \"type \" + obj.__name__ + \". It won't be checked \"\n"
          ],
          "name": "stderr"
        }
      ]
    },
    {
      "cell_type": "code",
      "metadata": {
        "id": "BWDU6VzLCUGR",
        "colab_type": "code",
        "colab": {}
      },
      "source": [
        ""
      ],
      "execution_count": null,
      "outputs": []
    }
  ]
}